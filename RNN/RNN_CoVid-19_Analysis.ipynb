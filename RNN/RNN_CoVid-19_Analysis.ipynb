{
 "cells": [
  {
   "cell_type": "code",
   "execution_count": 34,
   "metadata": {},
   "outputs": [],
   "source": [
    "import pandas as pd\n",
    "import urllib.request as url\n",
    "import json"
   ]
  },
  {
   "cell_type": "code",
   "execution_count": 35,
   "metadata": {},
   "outputs": [],
   "source": [
    "res = url.urlopen(\"https://api.covid19india.org/states_daily.json\")"
   ]
  },
  {
   "cell_type": "code",
   "execution_count": 36,
   "metadata": {},
   "outputs": [],
   "source": [
    "data = json.load(res)"
   ]
  },
  {
   "cell_type": "code",
   "execution_count": 37,
   "metadata": {},
   "outputs": [
    {
     "data": {
      "text/plain": [
       "dict_keys(['states_daily'])"
      ]
     },
     "execution_count": 37,
     "metadata": {},
     "output_type": "execute_result"
    }
   ],
   "source": [
    "data.keys()"
   ]
  },
  {
   "cell_type": "code",
   "execution_count": 38,
   "metadata": {},
   "outputs": [],
   "source": [
    "data = data['states_daily']"
   ]
  },
  {
   "cell_type": "code",
   "execution_count": 39,
   "metadata": {},
   "outputs": [],
   "source": [
    "df = pd.DataFrame(data)"
   ]
  },
  {
   "cell_type": "code",
   "execution_count": 40,
   "metadata": {},
   "outputs": [
    {
     "data": {
      "text/plain": [
       "(435, 41)"
      ]
     },
     "execution_count": 40,
     "metadata": {},
     "output_type": "execute_result"
    }
   ],
   "source": [
    "df.shape"
   ]
  },
  {
   "cell_type": "code",
   "execution_count": 41,
   "metadata": {},
   "outputs": [
    {
     "data": {
      "text/html": [
       "<div>\n",
       "<style scoped>\n",
       "    .dataframe tbody tr th:only-of-type {\n",
       "        vertical-align: middle;\n",
       "    }\n",
       "\n",
       "    .dataframe tbody tr th {\n",
       "        vertical-align: top;\n",
       "    }\n",
       "\n",
       "    .dataframe thead th {\n",
       "        text-align: right;\n",
       "    }\n",
       "</style>\n",
       "<table border=\"1\" class=\"dataframe\">\n",
       "  <thead>\n",
       "    <tr style=\"text-align: right;\">\n",
       "      <th></th>\n",
       "      <th>an</th>\n",
       "      <th>ap</th>\n",
       "      <th>ar</th>\n",
       "      <th>as</th>\n",
       "      <th>br</th>\n",
       "      <th>ch</th>\n",
       "      <th>ct</th>\n",
       "      <th>date</th>\n",
       "      <th>dd</th>\n",
       "      <th>dl</th>\n",
       "      <th>...</th>\n",
       "      <th>sk</th>\n",
       "      <th>status</th>\n",
       "      <th>tg</th>\n",
       "      <th>tn</th>\n",
       "      <th>tr</th>\n",
       "      <th>tt</th>\n",
       "      <th>un</th>\n",
       "      <th>up</th>\n",
       "      <th>ut</th>\n",
       "      <th>wb</th>\n",
       "    </tr>\n",
       "  </thead>\n",
       "  <tbody>\n",
       "    <tr>\n",
       "      <th>0</th>\n",
       "      <td>0</td>\n",
       "      <td>1</td>\n",
       "      <td>0</td>\n",
       "      <td>0</td>\n",
       "      <td>0</td>\n",
       "      <td>0</td>\n",
       "      <td>0</td>\n",
       "      <td>14-Mar-20</td>\n",
       "      <td>0</td>\n",
       "      <td>7</td>\n",
       "      <td>...</td>\n",
       "      <td>0</td>\n",
       "      <td>Confirmed</td>\n",
       "      <td>1</td>\n",
       "      <td>1</td>\n",
       "      <td>0</td>\n",
       "      <td>81</td>\n",
       "      <td>0</td>\n",
       "      <td>12</td>\n",
       "      <td>0</td>\n",
       "      <td>0</td>\n",
       "    </tr>\n",
       "    <tr>\n",
       "      <th>1</th>\n",
       "      <td>0</td>\n",
       "      <td>0</td>\n",
       "      <td>0</td>\n",
       "      <td>0</td>\n",
       "      <td>0</td>\n",
       "      <td>0</td>\n",
       "      <td>0</td>\n",
       "      <td>14-Mar-20</td>\n",
       "      <td>0</td>\n",
       "      <td>1</td>\n",
       "      <td>...</td>\n",
       "      <td>0</td>\n",
       "      <td>Recovered</td>\n",
       "      <td>0</td>\n",
       "      <td>0</td>\n",
       "      <td>0</td>\n",
       "      <td>9</td>\n",
       "      <td>0</td>\n",
       "      <td>4</td>\n",
       "      <td>0</td>\n",
       "      <td>0</td>\n",
       "    </tr>\n",
       "    <tr>\n",
       "      <th>2</th>\n",
       "      <td>0</td>\n",
       "      <td>0</td>\n",
       "      <td>0</td>\n",
       "      <td>0</td>\n",
       "      <td>0</td>\n",
       "      <td>0</td>\n",
       "      <td>0</td>\n",
       "      <td>14-Mar-20</td>\n",
       "      <td>0</td>\n",
       "      <td>1</td>\n",
       "      <td>...</td>\n",
       "      <td>0</td>\n",
       "      <td>Deceased</td>\n",
       "      <td>0</td>\n",
       "      <td>0</td>\n",
       "      <td>0</td>\n",
       "      <td>2</td>\n",
       "      <td>0</td>\n",
       "      <td>0</td>\n",
       "      <td>0</td>\n",
       "      <td>0</td>\n",
       "    </tr>\n",
       "    <tr>\n",
       "      <th>3</th>\n",
       "      <td>0</td>\n",
       "      <td>0</td>\n",
       "      <td>0</td>\n",
       "      <td>0</td>\n",
       "      <td>0</td>\n",
       "      <td>0</td>\n",
       "      <td>0</td>\n",
       "      <td>15-Mar-20</td>\n",
       "      <td>0</td>\n",
       "      <td>0</td>\n",
       "      <td>...</td>\n",
       "      <td>0</td>\n",
       "      <td>Confirmed</td>\n",
       "      <td>2</td>\n",
       "      <td>0</td>\n",
       "      <td>0</td>\n",
       "      <td>27</td>\n",
       "      <td>0</td>\n",
       "      <td>1</td>\n",
       "      <td>0</td>\n",
       "      <td>0</td>\n",
       "    </tr>\n",
       "    <tr>\n",
       "      <th>4</th>\n",
       "      <td>0</td>\n",
       "      <td>0</td>\n",
       "      <td>0</td>\n",
       "      <td>0</td>\n",
       "      <td>0</td>\n",
       "      <td>0</td>\n",
       "      <td>0</td>\n",
       "      <td>15-Mar-20</td>\n",
       "      <td>0</td>\n",
       "      <td>1</td>\n",
       "      <td>...</td>\n",
       "      <td>0</td>\n",
       "      <td>Recovered</td>\n",
       "      <td>1</td>\n",
       "      <td>0</td>\n",
       "      <td>0</td>\n",
       "      <td>4</td>\n",
       "      <td>0</td>\n",
       "      <td>0</td>\n",
       "      <td>0</td>\n",
       "      <td>0</td>\n",
       "    </tr>\n",
       "  </tbody>\n",
       "</table>\n",
       "<p>5 rows × 41 columns</p>\n",
       "</div>"
      ],
      "text/plain": [
       "  an ap ar as br ch ct       date dd dl  ... sk     status tg tn tr  tt un  \\\n",
       "0  0  1  0  0  0  0  0  14-Mar-20  0  7  ...  0  Confirmed  1  1  0  81  0   \n",
       "1  0  0  0  0  0  0  0  14-Mar-20  0  1  ...  0  Recovered  0  0  0   9  0   \n",
       "2  0  0  0  0  0  0  0  14-Mar-20  0  1  ...  0   Deceased  0  0  0   2  0   \n",
       "3  0  0  0  0  0  0  0  15-Mar-20  0  0  ...  0  Confirmed  2  0  0  27  0   \n",
       "4  0  0  0  0  0  0  0  15-Mar-20  0  1  ...  0  Recovered  1  0  0   4  0   \n",
       "\n",
       "   up ut wb  \n",
       "0  12  0  0  \n",
       "1   4  0  0  \n",
       "2   0  0  0  \n",
       "3   1  0  0  \n",
       "4   0  0  0  \n",
       "\n",
       "[5 rows x 41 columns]"
      ]
     },
     "execution_count": 41,
     "metadata": {},
     "output_type": "execute_result"
    }
   ],
   "source": [
    "df.head()"
   ]
  },
  {
   "cell_type": "code",
   "execution_count": 42,
   "metadata": {},
   "outputs": [
    {
     "data": {
      "text/html": [
       "<div>\n",
       "<style scoped>\n",
       "    .dataframe tbody tr th:only-of-type {\n",
       "        vertical-align: middle;\n",
       "    }\n",
       "\n",
       "    .dataframe tbody tr th {\n",
       "        vertical-align: top;\n",
       "    }\n",
       "\n",
       "    .dataframe thead th {\n",
       "        text-align: right;\n",
       "    }\n",
       "</style>\n",
       "<table border=\"1\" class=\"dataframe\">\n",
       "  <thead>\n",
       "    <tr style=\"text-align: right;\">\n",
       "      <th></th>\n",
       "      <th>an</th>\n",
       "      <th>ap</th>\n",
       "      <th>ar</th>\n",
       "      <th>as</th>\n",
       "      <th>br</th>\n",
       "      <th>ch</th>\n",
       "      <th>ct</th>\n",
       "      <th>date</th>\n",
       "      <th>dd</th>\n",
       "      <th>dl</th>\n",
       "      <th>...</th>\n",
       "      <th>sk</th>\n",
       "      <th>status</th>\n",
       "      <th>tg</th>\n",
       "      <th>tn</th>\n",
       "      <th>tr</th>\n",
       "      <th>tt</th>\n",
       "      <th>un</th>\n",
       "      <th>up</th>\n",
       "      <th>ut</th>\n",
       "      <th>wb</th>\n",
       "    </tr>\n",
       "  </thead>\n",
       "  <tbody>\n",
       "    <tr>\n",
       "      <th>430</th>\n",
       "      <td>14</td>\n",
       "      <td>6953</td>\n",
       "      <td>42</td>\n",
       "      <td>993</td>\n",
       "      <td>2252</td>\n",
       "      <td>9</td>\n",
       "      <td>357</td>\n",
       "      <td>04-Aug-20</td>\n",
       "      <td>0</td>\n",
       "      <td>972</td>\n",
       "      <td>...</td>\n",
       "      <td>2</td>\n",
       "      <td>Recovered</td>\n",
       "      <td>1066</td>\n",
       "      <td>6501</td>\n",
       "      <td>70</td>\n",
       "      <td>51220</td>\n",
       "      <td>0</td>\n",
       "      <td>1878</td>\n",
       "      <td>309</td>\n",
       "      <td>2066</td>\n",
       "    </tr>\n",
       "    <tr>\n",
       "      <th>431</th>\n",
       "      <td>2</td>\n",
       "      <td>67</td>\n",
       "      <td>0</td>\n",
       "      <td>6</td>\n",
       "      <td>13</td>\n",
       "      <td>1</td>\n",
       "      <td>8</td>\n",
       "      <td>04-Aug-20</td>\n",
       "      <td>0</td>\n",
       "      <td>12</td>\n",
       "      <td>...</td>\n",
       "      <td>0</td>\n",
       "      <td>Deceased</td>\n",
       "      <td>12</td>\n",
       "      <td>108</td>\n",
       "      <td>1</td>\n",
       "      <td>849</td>\n",
       "      <td>0</td>\n",
       "      <td>39</td>\n",
       "      <td>5</td>\n",
       "      <td>54</td>\n",
       "    </tr>\n",
       "    <tr>\n",
       "      <th>432</th>\n",
       "      <td>99</td>\n",
       "      <td>10128</td>\n",
       "      <td>65</td>\n",
       "      <td>2284</td>\n",
       "      <td>2701</td>\n",
       "      <td>64</td>\n",
       "      <td>295</td>\n",
       "      <td>05-Aug-20</td>\n",
       "      <td>0</td>\n",
       "      <td>1076</td>\n",
       "      <td>...</td>\n",
       "      <td>17</td>\n",
       "      <td>Confirmed</td>\n",
       "      <td>2012</td>\n",
       "      <td>0</td>\n",
       "      <td>122</td>\n",
       "      <td>51387</td>\n",
       "      <td>0</td>\n",
       "      <td>4078</td>\n",
       "      <td>246</td>\n",
       "      <td>2816</td>\n",
       "    </tr>\n",
       "    <tr>\n",
       "      <th>433</th>\n",
       "      <td>49</td>\n",
       "      <td>8729</td>\n",
       "      <td>105</td>\n",
       "      <td>1471</td>\n",
       "      <td>1610</td>\n",
       "      <td>0</td>\n",
       "      <td>258</td>\n",
       "      <td>05-Aug-20</td>\n",
       "      <td>0</td>\n",
       "      <td>890</td>\n",
       "      <td>...</td>\n",
       "      <td>4</td>\n",
       "      <td>Recovered</td>\n",
       "      <td>1139</td>\n",
       "      <td>0</td>\n",
       "      <td>50</td>\n",
       "      <td>39552</td>\n",
       "      <td>0</td>\n",
       "      <td>3287</td>\n",
       "      <td>386</td>\n",
       "      <td>2078</td>\n",
       "    </tr>\n",
       "    <tr>\n",
       "      <th>434</th>\n",
       "      <td>2</td>\n",
       "      <td>77</td>\n",
       "      <td>0</td>\n",
       "      <td>6</td>\n",
       "      <td>20</td>\n",
       "      <td>0</td>\n",
       "      <td>2</td>\n",
       "      <td>05-Aug-20</td>\n",
       "      <td>0</td>\n",
       "      <td>11</td>\n",
       "      <td>...</td>\n",
       "      <td>0</td>\n",
       "      <td>Deceased</td>\n",
       "      <td>13</td>\n",
       "      <td>-3</td>\n",
       "      <td>2</td>\n",
       "      <td>804</td>\n",
       "      <td>0</td>\n",
       "      <td>40</td>\n",
       "      <td>3</td>\n",
       "      <td>61</td>\n",
       "    </tr>\n",
       "  </tbody>\n",
       "</table>\n",
       "<p>5 rows × 41 columns</p>\n",
       "</div>"
      ],
      "text/plain": [
       "     an     ap   ar    as    br  ch   ct       date dd    dl  ...  sk  \\\n",
       "430  14   6953   42   993  2252   9  357  04-Aug-20  0   972  ...   2   \n",
       "431   2     67    0     6    13   1    8  04-Aug-20  0    12  ...   0   \n",
       "432  99  10128   65  2284  2701  64  295  05-Aug-20  0  1076  ...  17   \n",
       "433  49   8729  105  1471  1610   0  258  05-Aug-20  0   890  ...   4   \n",
       "434   2     77    0     6    20   0    2  05-Aug-20  0    11  ...   0   \n",
       "\n",
       "        status    tg    tn   tr     tt un    up   ut    wb  \n",
       "430  Recovered  1066  6501   70  51220  0  1878  309  2066  \n",
       "431   Deceased    12   108    1    849  0    39    5    54  \n",
       "432  Confirmed  2012     0  122  51387  0  4078  246  2816  \n",
       "433  Recovered  1139     0   50  39552  0  3287  386  2078  \n",
       "434   Deceased    13    -3    2    804  0    40    3    61  \n",
       "\n",
       "[5 rows x 41 columns]"
      ]
     },
     "execution_count": 42,
     "metadata": {},
     "output_type": "execute_result"
    }
   ],
   "source": [
    "df.tail()"
   ]
  },
  {
   "cell_type": "code",
   "execution_count": 43,
   "metadata": {},
   "outputs": [
    {
     "data": {
      "text/plain": [
       "Index(['an', 'ap', 'ar', 'as', 'br', 'ch', 'ct', 'date', 'dd', 'dl', 'dn',\n",
       "       'ga', 'gj', 'hp', 'hr', 'jh', 'jk', 'ka', 'kl', 'la', 'ld', 'mh', 'ml',\n",
       "       'mn', 'mp', 'mz', 'nl', 'or', 'pb', 'py', 'rj', 'sk', 'status', 'tg',\n",
       "       'tn', 'tr', 'tt', 'un', 'up', 'ut', 'wb'],\n",
       "      dtype='object')"
      ]
     },
     "execution_count": 43,
     "metadata": {},
     "output_type": "execute_result"
    }
   ],
   "source": [
    "df.columns"
   ]
  },
  {
   "cell_type": "code",
   "execution_count": 44,
   "metadata": {},
   "outputs": [],
   "source": [
    "confirmed_df = df[df['status'] == 'Confirmed']"
   ]
  },
  {
   "cell_type": "code",
   "execution_count": 45,
   "metadata": {},
   "outputs": [
    {
     "data": {
      "text/plain": [
       "(145, 41)"
      ]
     },
     "execution_count": 45,
     "metadata": {},
     "output_type": "execute_result"
    }
   ],
   "source": [
    "confirmed_df.shape"
   ]
  },
  {
   "cell_type": "code",
   "execution_count": 46,
   "metadata": {},
   "outputs": [
    {
     "data": {
      "text/html": [
       "<div>\n",
       "<style scoped>\n",
       "    .dataframe tbody tr th:only-of-type {\n",
       "        vertical-align: middle;\n",
       "    }\n",
       "\n",
       "    .dataframe tbody tr th {\n",
       "        vertical-align: top;\n",
       "    }\n",
       "\n",
       "    .dataframe thead th {\n",
       "        text-align: right;\n",
       "    }\n",
       "</style>\n",
       "<table border=\"1\" class=\"dataframe\">\n",
       "  <thead>\n",
       "    <tr style=\"text-align: right;\">\n",
       "      <th></th>\n",
       "      <th>an</th>\n",
       "      <th>ap</th>\n",
       "      <th>ar</th>\n",
       "      <th>as</th>\n",
       "      <th>br</th>\n",
       "      <th>ch</th>\n",
       "      <th>ct</th>\n",
       "      <th>date</th>\n",
       "      <th>dd</th>\n",
       "      <th>dl</th>\n",
       "      <th>...</th>\n",
       "      <th>sk</th>\n",
       "      <th>status</th>\n",
       "      <th>tg</th>\n",
       "      <th>tn</th>\n",
       "      <th>tr</th>\n",
       "      <th>tt</th>\n",
       "      <th>un</th>\n",
       "      <th>up</th>\n",
       "      <th>ut</th>\n",
       "      <th>wb</th>\n",
       "    </tr>\n",
       "  </thead>\n",
       "  <tbody>\n",
       "    <tr>\n",
       "      <th>0</th>\n",
       "      <td>0</td>\n",
       "      <td>1</td>\n",
       "      <td>0</td>\n",
       "      <td>0</td>\n",
       "      <td>0</td>\n",
       "      <td>0</td>\n",
       "      <td>0</td>\n",
       "      <td>14-Mar-20</td>\n",
       "      <td>0</td>\n",
       "      <td>7</td>\n",
       "      <td>...</td>\n",
       "      <td>0</td>\n",
       "      <td>Confirmed</td>\n",
       "      <td>1</td>\n",
       "      <td>1</td>\n",
       "      <td>0</td>\n",
       "      <td>81</td>\n",
       "      <td>0</td>\n",
       "      <td>12</td>\n",
       "      <td>0</td>\n",
       "      <td>0</td>\n",
       "    </tr>\n",
       "    <tr>\n",
       "      <th>3</th>\n",
       "      <td>0</td>\n",
       "      <td>0</td>\n",
       "      <td>0</td>\n",
       "      <td>0</td>\n",
       "      <td>0</td>\n",
       "      <td>0</td>\n",
       "      <td>0</td>\n",
       "      <td>15-Mar-20</td>\n",
       "      <td>0</td>\n",
       "      <td>0</td>\n",
       "      <td>...</td>\n",
       "      <td>0</td>\n",
       "      <td>Confirmed</td>\n",
       "      <td>2</td>\n",
       "      <td>0</td>\n",
       "      <td>0</td>\n",
       "      <td>27</td>\n",
       "      <td>0</td>\n",
       "      <td>1</td>\n",
       "      <td>0</td>\n",
       "      <td>0</td>\n",
       "    </tr>\n",
       "    <tr>\n",
       "      <th>6</th>\n",
       "      <td>0</td>\n",
       "      <td>0</td>\n",
       "      <td>0</td>\n",
       "      <td>0</td>\n",
       "      <td>0</td>\n",
       "      <td>0</td>\n",
       "      <td>0</td>\n",
       "      <td>16-Mar-20</td>\n",
       "      <td>0</td>\n",
       "      <td>0</td>\n",
       "      <td>...</td>\n",
       "      <td>0</td>\n",
       "      <td>Confirmed</td>\n",
       "      <td>1</td>\n",
       "      <td>0</td>\n",
       "      <td>0</td>\n",
       "      <td>15</td>\n",
       "      <td>0</td>\n",
       "      <td>0</td>\n",
       "      <td>1</td>\n",
       "      <td>0</td>\n",
       "    </tr>\n",
       "    <tr>\n",
       "      <th>9</th>\n",
       "      <td>0</td>\n",
       "      <td>0</td>\n",
       "      <td>0</td>\n",
       "      <td>0</td>\n",
       "      <td>0</td>\n",
       "      <td>0</td>\n",
       "      <td>0</td>\n",
       "      <td>17-Mar-20</td>\n",
       "      <td>0</td>\n",
       "      <td>1</td>\n",
       "      <td>...</td>\n",
       "      <td>0</td>\n",
       "      <td>Confirmed</td>\n",
       "      <td>1</td>\n",
       "      <td>0</td>\n",
       "      <td>0</td>\n",
       "      <td>11</td>\n",
       "      <td>0</td>\n",
       "      <td>2</td>\n",
       "      <td>0</td>\n",
       "      <td>1</td>\n",
       "    </tr>\n",
       "    <tr>\n",
       "      <th>12</th>\n",
       "      <td>0</td>\n",
       "      <td>0</td>\n",
       "      <td>0</td>\n",
       "      <td>0</td>\n",
       "      <td>0</td>\n",
       "      <td>0</td>\n",
       "      <td>0</td>\n",
       "      <td>18-Mar-20</td>\n",
       "      <td>0</td>\n",
       "      <td>2</td>\n",
       "      <td>...</td>\n",
       "      <td>0</td>\n",
       "      <td>Confirmed</td>\n",
       "      <td>8</td>\n",
       "      <td>1</td>\n",
       "      <td>0</td>\n",
       "      <td>37</td>\n",
       "      <td>0</td>\n",
       "      <td>2</td>\n",
       "      <td>1</td>\n",
       "      <td>0</td>\n",
       "    </tr>\n",
       "  </tbody>\n",
       "</table>\n",
       "<p>5 rows × 41 columns</p>\n",
       "</div>"
      ],
      "text/plain": [
       "   an ap ar as br ch ct       date dd dl  ... sk     status tg tn tr  tt un  \\\n",
       "0   0  1  0  0  0  0  0  14-Mar-20  0  7  ...  0  Confirmed  1  1  0  81  0   \n",
       "3   0  0  0  0  0  0  0  15-Mar-20  0  0  ...  0  Confirmed  2  0  0  27  0   \n",
       "6   0  0  0  0  0  0  0  16-Mar-20  0  0  ...  0  Confirmed  1  0  0  15  0   \n",
       "9   0  0  0  0  0  0  0  17-Mar-20  0  1  ...  0  Confirmed  1  0  0  11  0   \n",
       "12  0  0  0  0  0  0  0  18-Mar-20  0  2  ...  0  Confirmed  8  1  0  37  0   \n",
       "\n",
       "    up ut wb  \n",
       "0   12  0  0  \n",
       "3    1  0  0  \n",
       "6    0  1  0  \n",
       "9    2  0  1  \n",
       "12   2  1  0  \n",
       "\n",
       "[5 rows x 41 columns]"
      ]
     },
     "execution_count": 46,
     "metadata": {},
     "output_type": "execute_result"
    }
   ],
   "source": [
    "confirmed_df.head()"
   ]
  },
  {
   "cell_type": "code",
   "execution_count": 47,
   "metadata": {},
   "outputs": [],
   "source": [
    "confirmed_df = confirmed_df.drop(['date', 'status'], axis = 1)"
   ]
  },
  {
   "cell_type": "code",
   "execution_count": 48,
   "metadata": {},
   "outputs": [
    {
     "data": {
      "text/plain": [
       "(145, 39)"
      ]
     },
     "execution_count": 48,
     "metadata": {},
     "output_type": "execute_result"
    }
   ],
   "source": [
    "confirmed_df.shape"
   ]
  },
  {
   "cell_type": "code",
   "execution_count": 49,
   "metadata": {},
   "outputs": [
    {
     "data": {
      "text/html": [
       "<div>\n",
       "<style scoped>\n",
       "    .dataframe tbody tr th:only-of-type {\n",
       "        vertical-align: middle;\n",
       "    }\n",
       "\n",
       "    .dataframe tbody tr th {\n",
       "        vertical-align: top;\n",
       "    }\n",
       "\n",
       "    .dataframe thead th {\n",
       "        text-align: right;\n",
       "    }\n",
       "</style>\n",
       "<table border=\"1\" class=\"dataframe\">\n",
       "  <thead>\n",
       "    <tr style=\"text-align: right;\">\n",
       "      <th></th>\n",
       "      <th>an</th>\n",
       "      <th>ap</th>\n",
       "      <th>ar</th>\n",
       "      <th>as</th>\n",
       "      <th>br</th>\n",
       "      <th>ch</th>\n",
       "      <th>ct</th>\n",
       "      <th>dd</th>\n",
       "      <th>dl</th>\n",
       "      <th>dn</th>\n",
       "      <th>...</th>\n",
       "      <th>rj</th>\n",
       "      <th>sk</th>\n",
       "      <th>tg</th>\n",
       "      <th>tn</th>\n",
       "      <th>tr</th>\n",
       "      <th>tt</th>\n",
       "      <th>un</th>\n",
       "      <th>up</th>\n",
       "      <th>ut</th>\n",
       "      <th>wb</th>\n",
       "    </tr>\n",
       "  </thead>\n",
       "  <tbody>\n",
       "    <tr>\n",
       "      <th>0</th>\n",
       "      <td>0</td>\n",
       "      <td>1</td>\n",
       "      <td>0</td>\n",
       "      <td>0</td>\n",
       "      <td>0</td>\n",
       "      <td>0</td>\n",
       "      <td>0</td>\n",
       "      <td>0</td>\n",
       "      <td>7</td>\n",
       "      <td>0</td>\n",
       "      <td>...</td>\n",
       "      <td>3</td>\n",
       "      <td>0</td>\n",
       "      <td>1</td>\n",
       "      <td>1</td>\n",
       "      <td>0</td>\n",
       "      <td>81</td>\n",
       "      <td>0</td>\n",
       "      <td>12</td>\n",
       "      <td>0</td>\n",
       "      <td>0</td>\n",
       "    </tr>\n",
       "    <tr>\n",
       "      <th>3</th>\n",
       "      <td>0</td>\n",
       "      <td>0</td>\n",
       "      <td>0</td>\n",
       "      <td>0</td>\n",
       "      <td>0</td>\n",
       "      <td>0</td>\n",
       "      <td>0</td>\n",
       "      <td>0</td>\n",
       "      <td>0</td>\n",
       "      <td>0</td>\n",
       "      <td>...</td>\n",
       "      <td>1</td>\n",
       "      <td>0</td>\n",
       "      <td>2</td>\n",
       "      <td>0</td>\n",
       "      <td>0</td>\n",
       "      <td>27</td>\n",
       "      <td>0</td>\n",
       "      <td>1</td>\n",
       "      <td>0</td>\n",
       "      <td>0</td>\n",
       "    </tr>\n",
       "    <tr>\n",
       "      <th>6</th>\n",
       "      <td>0</td>\n",
       "      <td>0</td>\n",
       "      <td>0</td>\n",
       "      <td>0</td>\n",
       "      <td>0</td>\n",
       "      <td>0</td>\n",
       "      <td>0</td>\n",
       "      <td>0</td>\n",
       "      <td>0</td>\n",
       "      <td>0</td>\n",
       "      <td>...</td>\n",
       "      <td>0</td>\n",
       "      <td>0</td>\n",
       "      <td>1</td>\n",
       "      <td>0</td>\n",
       "      <td>0</td>\n",
       "      <td>15</td>\n",
       "      <td>0</td>\n",
       "      <td>0</td>\n",
       "      <td>1</td>\n",
       "      <td>0</td>\n",
       "    </tr>\n",
       "    <tr>\n",
       "      <th>9</th>\n",
       "      <td>0</td>\n",
       "      <td>0</td>\n",
       "      <td>0</td>\n",
       "      <td>0</td>\n",
       "      <td>0</td>\n",
       "      <td>0</td>\n",
       "      <td>0</td>\n",
       "      <td>0</td>\n",
       "      <td>1</td>\n",
       "      <td>0</td>\n",
       "      <td>...</td>\n",
       "      <td>0</td>\n",
       "      <td>0</td>\n",
       "      <td>1</td>\n",
       "      <td>0</td>\n",
       "      <td>0</td>\n",
       "      <td>11</td>\n",
       "      <td>0</td>\n",
       "      <td>2</td>\n",
       "      <td>0</td>\n",
       "      <td>1</td>\n",
       "    </tr>\n",
       "    <tr>\n",
       "      <th>12</th>\n",
       "      <td>0</td>\n",
       "      <td>0</td>\n",
       "      <td>0</td>\n",
       "      <td>0</td>\n",
       "      <td>0</td>\n",
       "      <td>0</td>\n",
       "      <td>0</td>\n",
       "      <td>0</td>\n",
       "      <td>2</td>\n",
       "      <td>0</td>\n",
       "      <td>...</td>\n",
       "      <td>3</td>\n",
       "      <td>0</td>\n",
       "      <td>8</td>\n",
       "      <td>1</td>\n",
       "      <td>0</td>\n",
       "      <td>37</td>\n",
       "      <td>0</td>\n",
       "      <td>2</td>\n",
       "      <td>1</td>\n",
       "      <td>0</td>\n",
       "    </tr>\n",
       "  </tbody>\n",
       "</table>\n",
       "<p>5 rows × 39 columns</p>\n",
       "</div>"
      ],
      "text/plain": [
       "   an ap ar as br ch ct dd dl dn  ... rj sk tg tn tr  tt un  up ut wb\n",
       "0   0  1  0  0  0  0  0  0  7  0  ...  3  0  1  1  0  81  0  12  0  0\n",
       "3   0  0  0  0  0  0  0  0  0  0  ...  1  0  2  0  0  27  0   1  0  0\n",
       "6   0  0  0  0  0  0  0  0  0  0  ...  0  0  1  0  0  15  0   0  1  0\n",
       "9   0  0  0  0  0  0  0  0  1  0  ...  0  0  1  0  0  11  0   2  0  1\n",
       "12  0  0  0  0  0  0  0  0  2  0  ...  3  0  8  1  0  37  0   2  1  0\n",
       "\n",
       "[5 rows x 39 columns]"
      ]
     },
     "execution_count": 49,
     "metadata": {},
     "output_type": "execute_result"
    }
   ],
   "source": [
    "confirmed_df.head()"
   ]
  },
  {
   "cell_type": "code",
   "execution_count": 50,
   "metadata": {},
   "outputs": [
    {
     "data": {
      "text/plain": [
       "Index(['an', 'ap', 'ar', 'as', 'br', 'ch', 'ct', 'dd', 'dl', 'dn', 'ga', 'gj',\n",
       "       'hp', 'hr', 'jh', 'jk', 'ka', 'kl', 'la', 'ld', 'mh', 'ml', 'mn', 'mp',\n",
       "       'mz', 'nl', 'or', 'pb', 'py', 'rj', 'sk', 'tg', 'tn', 'tr', 'tt', 'un',\n",
       "       'up', 'ut', 'wb'],\n",
       "      dtype='object')"
      ]
     },
     "execution_count": 50,
     "metadata": {},
     "output_type": "execute_result"
    }
   ],
   "source": [
    "confirmed_df.columns"
   ]
  },
  {
   "cell_type": "code",
   "execution_count": 51,
   "metadata": {},
   "outputs": [],
   "source": [
    "import numpy as np"
   ]
  },
  {
   "cell_type": "code",
   "execution_count": 52,
   "metadata": {},
   "outputs": [],
   "source": [
    "confirmed_df[['an', 'ap', 'ar', 'as', 'br', 'ch', 'ct', 'dd', 'dl', 'dn', 'ga', 'gj',\n",
    "       'hp', 'hr', 'jh', 'jk', 'ka', 'kl', 'la', 'ld', 'mh', 'ml', 'mn', 'mp',\n",
    "       'mz', 'nl', 'or', 'pb', 'py', 'rj', 'sk', 'tg', 'tn', 'tr', 'tt', 'un',\n",
    "       'up', 'ut', 'wb']] = confirmed_df[['an', 'ap', 'ar', 'as', 'br', 'ch', 'ct', 'dd', 'dl', 'dn', 'ga', 'gj',\n",
    "       'hp', 'hr', 'jh', 'jk', 'ka', 'kl', 'la', 'ld', 'mh', 'ml', 'mn', 'mp',\n",
    "       'mz', 'nl', 'or', 'pb', 'py', 'rj', 'sk', 'tg', 'tn', 'tr', 'tt', 'un',\n",
    "       'up', 'ut', 'wb']].astype(np.int64)"
   ]
  },
  {
   "cell_type": "code",
   "execution_count": 53,
   "metadata": {},
   "outputs": [
    {
     "data": {
      "text/plain": [
       "(145, 39)"
      ]
     },
     "execution_count": 53,
     "metadata": {},
     "output_type": "execute_result"
    }
   ],
   "source": [
    "confirmed_df.shape"
   ]
  },
  {
   "cell_type": "code",
   "execution_count": 54,
   "metadata": {},
   "outputs": [
    {
     "data": {
      "text/html": [
       "<div>\n",
       "<style scoped>\n",
       "    .dataframe tbody tr th:only-of-type {\n",
       "        vertical-align: middle;\n",
       "    }\n",
       "\n",
       "    .dataframe tbody tr th {\n",
       "        vertical-align: top;\n",
       "    }\n",
       "\n",
       "    .dataframe thead th {\n",
       "        text-align: right;\n",
       "    }\n",
       "</style>\n",
       "<table border=\"1\" class=\"dataframe\">\n",
       "  <thead>\n",
       "    <tr style=\"text-align: right;\">\n",
       "      <th></th>\n",
       "      <th>an</th>\n",
       "      <th>ap</th>\n",
       "      <th>ar</th>\n",
       "      <th>as</th>\n",
       "      <th>br</th>\n",
       "      <th>ch</th>\n",
       "      <th>ct</th>\n",
       "      <th>dd</th>\n",
       "      <th>dl</th>\n",
       "      <th>dn</th>\n",
       "      <th>...</th>\n",
       "      <th>rj</th>\n",
       "      <th>sk</th>\n",
       "      <th>tg</th>\n",
       "      <th>tn</th>\n",
       "      <th>tr</th>\n",
       "      <th>tt</th>\n",
       "      <th>un</th>\n",
       "      <th>up</th>\n",
       "      <th>ut</th>\n",
       "      <th>wb</th>\n",
       "    </tr>\n",
       "  </thead>\n",
       "  <tbody>\n",
       "    <tr>\n",
       "      <th>0</th>\n",
       "      <td>0</td>\n",
       "      <td>1</td>\n",
       "      <td>0</td>\n",
       "      <td>0</td>\n",
       "      <td>0</td>\n",
       "      <td>0</td>\n",
       "      <td>0</td>\n",
       "      <td>0</td>\n",
       "      <td>7</td>\n",
       "      <td>0</td>\n",
       "      <td>...</td>\n",
       "      <td>3</td>\n",
       "      <td>0</td>\n",
       "      <td>1</td>\n",
       "      <td>1</td>\n",
       "      <td>0</td>\n",
       "      <td>81</td>\n",
       "      <td>0</td>\n",
       "      <td>12</td>\n",
       "      <td>0</td>\n",
       "      <td>0</td>\n",
       "    </tr>\n",
       "    <tr>\n",
       "      <th>3</th>\n",
       "      <td>0</td>\n",
       "      <td>0</td>\n",
       "      <td>0</td>\n",
       "      <td>0</td>\n",
       "      <td>0</td>\n",
       "      <td>0</td>\n",
       "      <td>0</td>\n",
       "      <td>0</td>\n",
       "      <td>0</td>\n",
       "      <td>0</td>\n",
       "      <td>...</td>\n",
       "      <td>1</td>\n",
       "      <td>0</td>\n",
       "      <td>2</td>\n",
       "      <td>0</td>\n",
       "      <td>0</td>\n",
       "      <td>27</td>\n",
       "      <td>0</td>\n",
       "      <td>1</td>\n",
       "      <td>0</td>\n",
       "      <td>0</td>\n",
       "    </tr>\n",
       "    <tr>\n",
       "      <th>6</th>\n",
       "      <td>0</td>\n",
       "      <td>0</td>\n",
       "      <td>0</td>\n",
       "      <td>0</td>\n",
       "      <td>0</td>\n",
       "      <td>0</td>\n",
       "      <td>0</td>\n",
       "      <td>0</td>\n",
       "      <td>0</td>\n",
       "      <td>0</td>\n",
       "      <td>...</td>\n",
       "      <td>0</td>\n",
       "      <td>0</td>\n",
       "      <td>1</td>\n",
       "      <td>0</td>\n",
       "      <td>0</td>\n",
       "      <td>15</td>\n",
       "      <td>0</td>\n",
       "      <td>0</td>\n",
       "      <td>1</td>\n",
       "      <td>0</td>\n",
       "    </tr>\n",
       "    <tr>\n",
       "      <th>9</th>\n",
       "      <td>0</td>\n",
       "      <td>0</td>\n",
       "      <td>0</td>\n",
       "      <td>0</td>\n",
       "      <td>0</td>\n",
       "      <td>0</td>\n",
       "      <td>0</td>\n",
       "      <td>0</td>\n",
       "      <td>1</td>\n",
       "      <td>0</td>\n",
       "      <td>...</td>\n",
       "      <td>0</td>\n",
       "      <td>0</td>\n",
       "      <td>1</td>\n",
       "      <td>0</td>\n",
       "      <td>0</td>\n",
       "      <td>11</td>\n",
       "      <td>0</td>\n",
       "      <td>2</td>\n",
       "      <td>0</td>\n",
       "      <td>1</td>\n",
       "    </tr>\n",
       "    <tr>\n",
       "      <th>12</th>\n",
       "      <td>0</td>\n",
       "      <td>0</td>\n",
       "      <td>0</td>\n",
       "      <td>0</td>\n",
       "      <td>0</td>\n",
       "      <td>0</td>\n",
       "      <td>0</td>\n",
       "      <td>0</td>\n",
       "      <td>2</td>\n",
       "      <td>0</td>\n",
       "      <td>...</td>\n",
       "      <td>3</td>\n",
       "      <td>0</td>\n",
       "      <td>8</td>\n",
       "      <td>1</td>\n",
       "      <td>0</td>\n",
       "      <td>37</td>\n",
       "      <td>0</td>\n",
       "      <td>2</td>\n",
       "      <td>1</td>\n",
       "      <td>0</td>\n",
       "    </tr>\n",
       "  </tbody>\n",
       "</table>\n",
       "<p>5 rows × 39 columns</p>\n",
       "</div>"
      ],
      "text/plain": [
       "    an  ap  ar  as  br  ch  ct  dd  dl  dn  ...  rj  sk  tg  tn  tr  tt  un  \\\n",
       "0    0   1   0   0   0   0   0   0   7   0  ...   3   0   1   1   0  81   0   \n",
       "3    0   0   0   0   0   0   0   0   0   0  ...   1   0   2   0   0  27   0   \n",
       "6    0   0   0   0   0   0   0   0   0   0  ...   0   0   1   0   0  15   0   \n",
       "9    0   0   0   0   0   0   0   0   1   0  ...   0   0   1   0   0  11   0   \n",
       "12   0   0   0   0   0   0   0   0   2   0  ...   3   0   8   1   0  37   0   \n",
       "\n",
       "    up  ut  wb  \n",
       "0   12   0   0  \n",
       "3    1   0   0  \n",
       "6    0   1   0  \n",
       "9    2   0   1  \n",
       "12   2   1   0  \n",
       "\n",
       "[5 rows x 39 columns]"
      ]
     },
     "execution_count": 54,
     "metadata": {},
     "output_type": "execute_result"
    }
   ],
   "source": [
    "confirmed_df.head()"
   ]
  },
  {
   "cell_type": "code",
   "execution_count": 56,
   "metadata": {},
   "outputs": [],
   "source": [
    "confirmed_df['sum'] = confirmed_df.sum(axis = 1, skipna = True)"
   ]
  },
  {
   "cell_type": "code",
   "execution_count": 57,
   "metadata": {},
   "outputs": [
    {
     "data": {
      "text/html": [
       "<div>\n",
       "<style scoped>\n",
       "    .dataframe tbody tr th:only-of-type {\n",
       "        vertical-align: middle;\n",
       "    }\n",
       "\n",
       "    .dataframe tbody tr th {\n",
       "        vertical-align: top;\n",
       "    }\n",
       "\n",
       "    .dataframe thead th {\n",
       "        text-align: right;\n",
       "    }\n",
       "</style>\n",
       "<table border=\"1\" class=\"dataframe\">\n",
       "  <thead>\n",
       "    <tr style=\"text-align: right;\">\n",
       "      <th></th>\n",
       "      <th>an</th>\n",
       "      <th>ap</th>\n",
       "      <th>ar</th>\n",
       "      <th>as</th>\n",
       "      <th>br</th>\n",
       "      <th>ch</th>\n",
       "      <th>ct</th>\n",
       "      <th>dd</th>\n",
       "      <th>dl</th>\n",
       "      <th>dn</th>\n",
       "      <th>...</th>\n",
       "      <th>sk</th>\n",
       "      <th>tg</th>\n",
       "      <th>tn</th>\n",
       "      <th>tr</th>\n",
       "      <th>tt</th>\n",
       "      <th>un</th>\n",
       "      <th>up</th>\n",
       "      <th>ut</th>\n",
       "      <th>wb</th>\n",
       "      <th>sum</th>\n",
       "    </tr>\n",
       "  </thead>\n",
       "  <tbody>\n",
       "    <tr>\n",
       "      <th>0</th>\n",
       "      <td>0</td>\n",
       "      <td>1</td>\n",
       "      <td>0</td>\n",
       "      <td>0</td>\n",
       "      <td>0</td>\n",
       "      <td>0</td>\n",
       "      <td>0</td>\n",
       "      <td>0</td>\n",
       "      <td>7</td>\n",
       "      <td>0</td>\n",
       "      <td>...</td>\n",
       "      <td>0</td>\n",
       "      <td>1</td>\n",
       "      <td>1</td>\n",
       "      <td>0</td>\n",
       "      <td>81</td>\n",
       "      <td>0</td>\n",
       "      <td>12</td>\n",
       "      <td>0</td>\n",
       "      <td>0</td>\n",
       "      <td>162</td>\n",
       "    </tr>\n",
       "    <tr>\n",
       "      <th>3</th>\n",
       "      <td>0</td>\n",
       "      <td>0</td>\n",
       "      <td>0</td>\n",
       "      <td>0</td>\n",
       "      <td>0</td>\n",
       "      <td>0</td>\n",
       "      <td>0</td>\n",
       "      <td>0</td>\n",
       "      <td>0</td>\n",
       "      <td>0</td>\n",
       "      <td>...</td>\n",
       "      <td>0</td>\n",
       "      <td>2</td>\n",
       "      <td>0</td>\n",
       "      <td>0</td>\n",
       "      <td>27</td>\n",
       "      <td>0</td>\n",
       "      <td>1</td>\n",
       "      <td>0</td>\n",
       "      <td>0</td>\n",
       "      <td>54</td>\n",
       "    </tr>\n",
       "    <tr>\n",
       "      <th>6</th>\n",
       "      <td>0</td>\n",
       "      <td>0</td>\n",
       "      <td>0</td>\n",
       "      <td>0</td>\n",
       "      <td>0</td>\n",
       "      <td>0</td>\n",
       "      <td>0</td>\n",
       "      <td>0</td>\n",
       "      <td>0</td>\n",
       "      <td>0</td>\n",
       "      <td>...</td>\n",
       "      <td>0</td>\n",
       "      <td>1</td>\n",
       "      <td>0</td>\n",
       "      <td>0</td>\n",
       "      <td>15</td>\n",
       "      <td>0</td>\n",
       "      <td>0</td>\n",
       "      <td>1</td>\n",
       "      <td>0</td>\n",
       "      <td>30</td>\n",
       "    </tr>\n",
       "    <tr>\n",
       "      <th>9</th>\n",
       "      <td>0</td>\n",
       "      <td>0</td>\n",
       "      <td>0</td>\n",
       "      <td>0</td>\n",
       "      <td>0</td>\n",
       "      <td>0</td>\n",
       "      <td>0</td>\n",
       "      <td>0</td>\n",
       "      <td>1</td>\n",
       "      <td>0</td>\n",
       "      <td>...</td>\n",
       "      <td>0</td>\n",
       "      <td>1</td>\n",
       "      <td>0</td>\n",
       "      <td>0</td>\n",
       "      <td>11</td>\n",
       "      <td>0</td>\n",
       "      <td>2</td>\n",
       "      <td>0</td>\n",
       "      <td>1</td>\n",
       "      <td>22</td>\n",
       "    </tr>\n",
       "    <tr>\n",
       "      <th>12</th>\n",
       "      <td>0</td>\n",
       "      <td>0</td>\n",
       "      <td>0</td>\n",
       "      <td>0</td>\n",
       "      <td>0</td>\n",
       "      <td>0</td>\n",
       "      <td>0</td>\n",
       "      <td>0</td>\n",
       "      <td>2</td>\n",
       "      <td>0</td>\n",
       "      <td>...</td>\n",
       "      <td>0</td>\n",
       "      <td>8</td>\n",
       "      <td>1</td>\n",
       "      <td>0</td>\n",
       "      <td>37</td>\n",
       "      <td>0</td>\n",
       "      <td>2</td>\n",
       "      <td>1</td>\n",
       "      <td>0</td>\n",
       "      <td>74</td>\n",
       "    </tr>\n",
       "  </tbody>\n",
       "</table>\n",
       "<p>5 rows × 40 columns</p>\n",
       "</div>"
      ],
      "text/plain": [
       "    an  ap  ar  as  br  ch  ct  dd  dl  dn  ...  sk  tg  tn  tr  tt  un  up  \\\n",
       "0    0   1   0   0   0   0   0   0   7   0  ...   0   1   1   0  81   0  12   \n",
       "3    0   0   0   0   0   0   0   0   0   0  ...   0   2   0   0  27   0   1   \n",
       "6    0   0   0   0   0   0   0   0   0   0  ...   0   1   0   0  15   0   0   \n",
       "9    0   0   0   0   0   0   0   0   1   0  ...   0   1   0   0  11   0   2   \n",
       "12   0   0   0   0   0   0   0   0   2   0  ...   0   8   1   0  37   0   2   \n",
       "\n",
       "    ut  wb  sum  \n",
       "0    0   0  162  \n",
       "3    0   0   54  \n",
       "6    1   0   30  \n",
       "9    0   1   22  \n",
       "12   1   0   74  \n",
       "\n",
       "[5 rows x 40 columns]"
      ]
     },
     "execution_count": 57,
     "metadata": {},
     "output_type": "execute_result"
    }
   ],
   "source": [
    "confirmed_df.head()"
   ]
  },
  {
   "cell_type": "code",
   "execution_count": 58,
   "metadata": {},
   "outputs": [
    {
     "data": {
      "text/html": [
       "<div>\n",
       "<style scoped>\n",
       "    .dataframe tbody tr th:only-of-type {\n",
       "        vertical-align: middle;\n",
       "    }\n",
       "\n",
       "    .dataframe tbody tr th {\n",
       "        vertical-align: top;\n",
       "    }\n",
       "\n",
       "    .dataframe thead th {\n",
       "        text-align: right;\n",
       "    }\n",
       "</style>\n",
       "<table border=\"1\" class=\"dataframe\">\n",
       "  <thead>\n",
       "    <tr style=\"text-align: right;\">\n",
       "      <th></th>\n",
       "      <th>an</th>\n",
       "      <th>ap</th>\n",
       "      <th>ar</th>\n",
       "      <th>as</th>\n",
       "      <th>br</th>\n",
       "      <th>ch</th>\n",
       "      <th>ct</th>\n",
       "      <th>dd</th>\n",
       "      <th>dl</th>\n",
       "      <th>dn</th>\n",
       "      <th>...</th>\n",
       "      <th>sk</th>\n",
       "      <th>tg</th>\n",
       "      <th>tn</th>\n",
       "      <th>tr</th>\n",
       "      <th>tt</th>\n",
       "      <th>un</th>\n",
       "      <th>up</th>\n",
       "      <th>ut</th>\n",
       "      <th>wb</th>\n",
       "      <th>sum</th>\n",
       "    </tr>\n",
       "  </thead>\n",
       "  <tbody>\n",
       "    <tr>\n",
       "      <th>420</th>\n",
       "      <td>88</td>\n",
       "      <td>9276</td>\n",
       "      <td>83</td>\n",
       "      <td>1457</td>\n",
       "      <td>3521</td>\n",
       "      <td>28</td>\n",
       "      <td>235</td>\n",
       "      <td>0</td>\n",
       "      <td>1118</td>\n",
       "      <td>45</td>\n",
       "      <td>...</td>\n",
       "      <td>11</td>\n",
       "      <td>2083</td>\n",
       "      <td>5879</td>\n",
       "      <td>252</td>\n",
       "      <td>55117</td>\n",
       "      <td>0</td>\n",
       "      <td>3587</td>\n",
       "      <td>264</td>\n",
       "      <td>2589</td>\n",
       "      <td>110234</td>\n",
       "    </tr>\n",
       "    <tr>\n",
       "      <th>423</th>\n",
       "      <td>98</td>\n",
       "      <td>8555</td>\n",
       "      <td>24</td>\n",
       "      <td>1178</td>\n",
       "      <td>2762</td>\n",
       "      <td>38</td>\n",
       "      <td>181</td>\n",
       "      <td>0</td>\n",
       "      <td>961</td>\n",
       "      <td>55</td>\n",
       "      <td>...</td>\n",
       "      <td>8</td>\n",
       "      <td>1891</td>\n",
       "      <td>5875</td>\n",
       "      <td>141</td>\n",
       "      <td>52672</td>\n",
       "      <td>0</td>\n",
       "      <td>3873</td>\n",
       "      <td>146</td>\n",
       "      <td>2739</td>\n",
       "      <td>105344</td>\n",
       "    </tr>\n",
       "    <tr>\n",
       "      <th>426</th>\n",
       "      <td>96</td>\n",
       "      <td>7822</td>\n",
       "      <td>60</td>\n",
       "      <td>2371</td>\n",
       "      <td>2297</td>\n",
       "      <td>43</td>\n",
       "      <td>212</td>\n",
       "      <td>0</td>\n",
       "      <td>805</td>\n",
       "      <td>35</td>\n",
       "      <td>...</td>\n",
       "      <td>30</td>\n",
       "      <td>983</td>\n",
       "      <td>5609</td>\n",
       "      <td>0</td>\n",
       "      <td>50488</td>\n",
       "      <td>0</td>\n",
       "      <td>4441</td>\n",
       "      <td>207</td>\n",
       "      <td>2716</td>\n",
       "      <td>100976</td>\n",
       "    </tr>\n",
       "    <tr>\n",
       "      <th>429</th>\n",
       "      <td>98</td>\n",
       "      <td>9747</td>\n",
       "      <td>32</td>\n",
       "      <td>2886</td>\n",
       "      <td>2464</td>\n",
       "      <td>46</td>\n",
       "      <td>382</td>\n",
       "      <td>0</td>\n",
       "      <td>674</td>\n",
       "      <td>43</td>\n",
       "      <td>...</td>\n",
       "      <td>95</td>\n",
       "      <td>1286</td>\n",
       "      <td>5063</td>\n",
       "      <td>131</td>\n",
       "      <td>51282</td>\n",
       "      <td>0</td>\n",
       "      <td>2948</td>\n",
       "      <td>208</td>\n",
       "      <td>2752</td>\n",
       "      <td>102564</td>\n",
       "    </tr>\n",
       "    <tr>\n",
       "      <th>432</th>\n",
       "      <td>99</td>\n",
       "      <td>10128</td>\n",
       "      <td>65</td>\n",
       "      <td>2284</td>\n",
       "      <td>2701</td>\n",
       "      <td>64</td>\n",
       "      <td>295</td>\n",
       "      <td>0</td>\n",
       "      <td>1076</td>\n",
       "      <td>45</td>\n",
       "      <td>...</td>\n",
       "      <td>17</td>\n",
       "      <td>2012</td>\n",
       "      <td>0</td>\n",
       "      <td>122</td>\n",
       "      <td>51387</td>\n",
       "      <td>0</td>\n",
       "      <td>4078</td>\n",
       "      <td>246</td>\n",
       "      <td>2816</td>\n",
       "      <td>102774</td>\n",
       "    </tr>\n",
       "  </tbody>\n",
       "</table>\n",
       "<p>5 rows × 40 columns</p>\n",
       "</div>"
      ],
      "text/plain": [
       "     an     ap  ar    as    br  ch   ct  dd    dl  dn  ...  sk    tg    tn  \\\n",
       "420  88   9276  83  1457  3521  28  235   0  1118  45  ...  11  2083  5879   \n",
       "423  98   8555  24  1178  2762  38  181   0   961  55  ...   8  1891  5875   \n",
       "426  96   7822  60  2371  2297  43  212   0   805  35  ...  30   983  5609   \n",
       "429  98   9747  32  2886  2464  46  382   0   674  43  ...  95  1286  5063   \n",
       "432  99  10128  65  2284  2701  64  295   0  1076  45  ...  17  2012     0   \n",
       "\n",
       "      tr     tt  un    up   ut    wb     sum  \n",
       "420  252  55117   0  3587  264  2589  110234  \n",
       "423  141  52672   0  3873  146  2739  105344  \n",
       "426    0  50488   0  4441  207  2716  100976  \n",
       "429  131  51282   0  2948  208  2752  102564  \n",
       "432  122  51387   0  4078  246  2816  102774  \n",
       "\n",
       "[5 rows x 40 columns]"
      ]
     },
     "execution_count": 58,
     "metadata": {},
     "output_type": "execute_result"
    }
   ],
   "source": [
    "confirmed_df.tail()"
   ]
  },
  {
   "cell_type": "code",
   "execution_count": 59,
   "metadata": {},
   "outputs": [
    {
     "data": {
      "text/plain": [
       "(145, 40)"
      ]
     },
     "execution_count": 59,
     "metadata": {},
     "output_type": "execute_result"
    }
   ],
   "source": [
    "confirmed_df.shape"
   ]
  },
  {
   "cell_type": "code",
   "execution_count": 63,
   "metadata": {},
   "outputs": [],
   "source": [
    "train_df = confirmed_df.iloc[:, 39:40].values"
   ]
  },
  {
   "cell_type": "code",
   "execution_count": 64,
   "metadata": {},
   "outputs": [
    {
     "data": {
      "text/plain": [
       "(145, 1)"
      ]
     },
     "execution_count": 64,
     "metadata": {},
     "output_type": "execute_result"
    }
   ],
   "source": [
    "train_df.shape"
   ]
  },
  {
   "cell_type": "code",
   "execution_count": 66,
   "metadata": {},
   "outputs": [
    {
     "name": "stderr",
     "output_type": "stream",
     "text": [
      "Using TensorFlow backend.\n"
     ]
    }
   ],
   "source": [
    "from keras.layers import Dense, Dropout, LSTM\n",
    "from keras.models import Sequential\n",
    "from sklearn.preprocessing import MinMaxScaler\n",
    "import matplotlib.pyplot as plt\n",
    "import seaborn as sns"
   ]
  },
  {
   "cell_type": "code",
   "execution_count": 67,
   "metadata": {},
   "outputs": [],
   "source": [
    "minmax = MinMaxScaler()\n",
    "scaled_train = minmax.fit_transform(train_df)"
   ]
  },
  {
   "cell_type": "code",
   "execution_count": 68,
   "metadata": {},
   "outputs": [
    {
     "data": {
      "text/plain": [
       "(145, 1)"
      ]
     },
     "execution_count": 68,
     "metadata": {},
     "output_type": "execute_result"
    }
   ],
   "source": [
    "scaled_train.shape"
   ]
  },
  {
   "cell_type": "code",
   "execution_count": 69,
   "metadata": {},
   "outputs": [],
   "source": [
    "n = len(scaled_train)"
   ]
  },
  {
   "cell_type": "code",
   "execution_count": 103,
   "metadata": {},
   "outputs": [],
   "source": [
    "X = []\n",
    "y = []"
   ]
  },
  {
   "cell_type": "code",
   "execution_count": 104,
   "metadata": {},
   "outputs": [],
   "source": [
    "for i in range(30, n):\n",
    "    X.append(scaled_train[i - 30 : i, 0])\n",
    "    y.append(scaled_train[i, 0])"
   ]
  },
  {
   "cell_type": "code",
   "execution_count": 105,
   "metadata": {},
   "outputs": [
    {
     "data": {
      "text/plain": [
       "array([1.21792084e-03, 2.78381905e-04, 6.95954763e-05, 0.00000000e+00,\n",
       "       4.52370596e-04, 2.78381905e-04, 8.17746846e-04, 1.16572423e-03,\n",
       "       9.74336668e-04, 1.58329709e-03, 9.22140061e-04, 1.37451066e-03,\n",
       "       9.39538930e-04, 2.66202697e-03, 2.29665072e-03, 1.72248804e-03,\n",
       "       3.06220096e-03, 5.18486298e-03, 7.18573293e-03, 8.26446281e-03,\n",
       "       9.55197912e-03, 9.88255763e-03, 1.04045237e-02, 8.22966507e-03,\n",
       "       9.76946498e-03, 9.63897347e-03, 1.39538930e-02, 1.49630274e-02,\n",
       "       1.46672466e-02, 1.29969552e-02])"
      ]
     },
     "execution_count": 105,
     "metadata": {},
     "output_type": "execute_result"
    }
   ],
   "source": [
    "X[0]"
   ]
  },
  {
   "cell_type": "code",
   "execution_count": 106,
   "metadata": {},
   "outputs": [
    {
     "data": {
      "text/plain": [
       "array([0.39128317, 0.40254023, 0.4445411 , 0.44852545, 0.48283602,\n",
       "       0.48274902, 0.5062201 , 0.49007395, 0.52033058, 0.56713354,\n",
       "       0.6169117 , 0.60563723, 0.6507177 , 0.69985211, 0.64019139,\n",
       "       0.68132231, 0.79321444, 0.84266203, 0.85040452, 0.87100478,\n",
       "       0.85117007, 0.80857764, 0.86333188, 0.91288386, 0.95618965,\n",
       "       1.        , 0.95878208, 0.91624184, 0.87824271, 0.89205742])"
      ]
     },
     "execution_count": 106,
     "metadata": {},
     "output_type": "execute_result"
    }
   ],
   "source": [
    "X[-1]"
   ]
  },
  {
   "cell_type": "code",
   "execution_count": 107,
   "metadata": {},
   "outputs": [
    {
     "data": {
      "text/plain": [
       "0.021435406698564592"
      ]
     },
     "execution_count": 107,
     "metadata": {},
     "output_type": "execute_result"
    }
   ],
   "source": [
    "y[0]"
   ]
  },
  {
   "cell_type": "code",
   "execution_count": 108,
   "metadata": {},
   "outputs": [],
   "source": [
    "X = np.asarray(x_train)\n",
    "y = np.asarray(y_train)"
   ]
  },
  {
   "cell_type": "code",
   "execution_count": 109,
   "metadata": {
    "scrolled": true
   },
   "outputs": [
    {
     "data": {
      "text/plain": [
       "(115, 30, 1)"
      ]
     },
     "execution_count": 109,
     "metadata": {},
     "output_type": "execute_result"
    }
   ],
   "source": [
    "X.shape"
   ]
  },
  {
   "cell_type": "code",
   "execution_count": 110,
   "metadata": {},
   "outputs": [
    {
     "data": {
      "text/plain": [
       "(115,)"
      ]
     },
     "execution_count": 110,
     "metadata": {},
     "output_type": "execute_result"
    }
   ],
   "source": [
    "y.shape"
   ]
  },
  {
   "cell_type": "code",
   "execution_count": 111,
   "metadata": {},
   "outputs": [],
   "source": [
    "X = X.reshape((X.shape[0], X.shape[1], 1))"
   ]
  },
  {
   "cell_type": "code",
   "execution_count": 112,
   "metadata": {},
   "outputs": [
    {
     "data": {
      "text/plain": [
       "(115, 30, 1)"
      ]
     },
     "execution_count": 112,
     "metadata": {},
     "output_type": "execute_result"
    }
   ],
   "source": [
    "X.shape"
   ]
  },
  {
   "cell_type": "code",
   "execution_count": 113,
   "metadata": {},
   "outputs": [],
   "source": [
    "model = Sequential()\n",
    "\n",
    "model.add(LSTM(units = 50, return_sequences = True, input_shape = (X.shape[1], 1)))\n",
    "model.add(Dropout (0.5))\n",
    "model.add(LSTM(units = 25, return_sequences = True))\n",
    "model.add(Dropout(0.5))\n",
    "model.add(LSTM(units = 25))\n",
    "model.add(Dense(units = 1))"
   ]
  },
  {
   "cell_type": "code",
   "execution_count": 114,
   "metadata": {},
   "outputs": [
    {
     "name": "stdout",
     "output_type": "stream",
     "text": [
      "Model: \"sequential_3\"\n",
      "_________________________________________________________________\n",
      "Layer (type)                 Output Shape              Param #   \n",
      "=================================================================\n",
      "lstm_7 (LSTM)                (None, 30, 50)            10400     \n",
      "_________________________________________________________________\n",
      "dropout_5 (Dropout)          (None, 30, 50)            0         \n",
      "_________________________________________________________________\n",
      "lstm_8 (LSTM)                (None, 30, 25)            7600      \n",
      "_________________________________________________________________\n",
      "dropout_6 (Dropout)          (None, 30, 25)            0         \n",
      "_________________________________________________________________\n",
      "lstm_9 (LSTM)                (None, 25)                5100      \n",
      "_________________________________________________________________\n",
      "dense_3 (Dense)              (None, 1)                 26        \n",
      "=================================================================\n",
      "Total params: 23,126\n",
      "Trainable params: 23,126\n",
      "Non-trainable params: 0\n",
      "_________________________________________________________________\n"
     ]
    }
   ],
   "source": [
    "model.summary()"
   ]
  },
  {
   "cell_type": "code",
   "execution_count": 115,
   "metadata": {},
   "outputs": [
    {
     "name": "stdout",
     "output_type": "stream",
     "text": [
      "Epoch 1/100\n",
      "115/115 [==============================] - 9s 75ms/step - loss: 0.1781\n",
      "Epoch 2/100\n",
      "115/115 [==============================] - 0s 3ms/step - loss: 0.1095\n",
      "Epoch 3/100\n",
      "115/115 [==============================] - 0s 3ms/step - loss: 0.0482\n",
      "Epoch 4/100\n",
      "115/115 [==============================] - 0s 2ms/step - loss: 0.0307\n",
      "Epoch 5/100\n",
      "115/115 [==============================] - 0s 2ms/step - loss: 0.0247\n",
      "Epoch 6/100\n",
      "115/115 [==============================] - 0s 2ms/step - loss: 0.0143\n",
      "Epoch 7/100\n",
      "115/115 [==============================] - 0s 3ms/step - loss: 0.0127\n",
      "Epoch 8/100\n",
      "115/115 [==============================] - 0s 2ms/step - loss: 0.0062\n",
      "Epoch 9/100\n",
      "115/115 [==============================] - 0s 2ms/step - loss: 0.0057\n",
      "Epoch 10/100\n",
      "115/115 [==============================] - 0s 3ms/step - loss: 0.0034\n",
      "Epoch 11/100\n",
      "115/115 [==============================] - 0s 4ms/step - loss: 0.0040\n",
      "Epoch 12/100\n",
      "115/115 [==============================] - 0s 2ms/step - loss: 0.0041\n",
      "Epoch 13/100\n",
      "115/115 [==============================] - 0s 2ms/step - loss: 0.0029\n",
      "Epoch 14/100\n",
      "115/115 [==============================] - 0s 2ms/step - loss: 0.0030\n",
      "Epoch 15/100\n",
      "115/115 [==============================] - 0s 3ms/step - loss: 0.0025\n",
      "Epoch 16/100\n",
      "115/115 [==============================] - 0s 2ms/step - loss: 0.0028\n",
      "Epoch 17/100\n",
      "115/115 [==============================] - 0s 2ms/step - loss: 0.0023\n",
      "Epoch 18/100\n",
      "115/115 [==============================] - 0s 2ms/step - loss: 0.0028\n",
      "Epoch 19/100\n",
      "115/115 [==============================] - 0s 3ms/step - loss: 0.0030\n",
      "Epoch 20/100\n",
      "115/115 [==============================] - 0s 3ms/step - loss: 0.0020\n",
      "Epoch 21/100\n",
      "115/115 [==============================] - 0s 2ms/step - loss: 0.0026\n",
      "Epoch 22/100\n",
      "115/115 [==============================] - 0s 3ms/step - loss: 0.0024\n",
      "Epoch 23/100\n",
      "115/115 [==============================] - 0s 3ms/step - loss: 0.0015\n",
      "Epoch 24/100\n",
      "115/115 [==============================] - 0s 2ms/step - loss: 0.0018\n",
      "Epoch 25/100\n",
      "115/115 [==============================] - 0s 3ms/step - loss: 0.0014\n",
      "Epoch 26/100\n",
      "115/115 [==============================] - 0s 2ms/step - loss: 0.0018\n",
      "Epoch 27/100\n",
      "115/115 [==============================] - 0s 3ms/step - loss: 0.0023\n",
      "Epoch 28/100\n",
      "115/115 [==============================] - 0s 4ms/step - loss: 0.0019\n",
      "Epoch 29/100\n",
      "115/115 [==============================] - 0s 2ms/step - loss: 0.0033\n",
      "Epoch 30/100\n",
      "115/115 [==============================] - 0s 2ms/step - loss: 0.0019\n",
      "Epoch 31/100\n",
      "115/115 [==============================] - 0s 2ms/step - loss: 0.0021\n",
      "Epoch 32/100\n",
      "115/115 [==============================] - 0s 2ms/step - loss: 0.0020\n",
      "Epoch 33/100\n",
      "115/115 [==============================] - 0s 2ms/step - loss: 0.0018\n",
      "Epoch 34/100\n",
      "115/115 [==============================] - 0s 2ms/step - loss: 0.0025\n",
      "Epoch 35/100\n",
      "115/115 [==============================] - 0s 3ms/step - loss: 0.0014\n",
      "Epoch 36/100\n",
      "115/115 [==============================] - 0s 2ms/step - loss: 0.0017\n",
      "Epoch 37/100\n",
      "115/115 [==============================] - 0s 2ms/step - loss: 0.0017\n",
      "Epoch 38/100\n",
      "115/115 [==============================] - 0s 2ms/step - loss: 0.0021\n",
      "Epoch 39/100\n",
      "115/115 [==============================] - 0s 2ms/step - loss: 0.0015\n",
      "Epoch 40/100\n",
      "115/115 [==============================] - 0s 2ms/step - loss: 0.0016\n",
      "Epoch 41/100\n",
      "115/115 [==============================] - 0s 2ms/step - loss: 0.0018\n",
      "Epoch 42/100\n",
      "115/115 [==============================] - 0s 2ms/step - loss: 0.0017\n",
      "Epoch 43/100\n",
      "115/115 [==============================] - 0s 3ms/step - loss: 0.0017\n",
      "Epoch 44/100\n",
      "115/115 [==============================] - 0s 2ms/step - loss: 0.0020\n",
      "Epoch 45/100\n",
      "115/115 [==============================] - 0s 3ms/step - loss: 0.0014\n",
      "Epoch 46/100\n",
      "115/115 [==============================] - 0s 2ms/step - loss: 0.0015\n",
      "Epoch 47/100\n",
      "115/115 [==============================] - 0s 3ms/step - loss: 0.0016\n",
      "Epoch 48/100\n",
      "115/115 [==============================] - 0s 2ms/step - loss: 0.0016\n",
      "Epoch 49/100\n",
      "115/115 [==============================] - 0s 2ms/step - loss: 0.0013\n",
      "Epoch 50/100\n",
      "115/115 [==============================] - 0s 2ms/step - loss: 0.0011\n",
      "Epoch 51/100\n",
      "115/115 [==============================] - 0s 3ms/step - loss: 0.0017\n",
      "Epoch 52/100\n",
      "115/115 [==============================] - 0s 2ms/step - loss: 0.0013\n",
      "Epoch 53/100\n",
      "115/115 [==============================] - 0s 2ms/step - loss: 0.0015\n",
      "Epoch 54/100\n",
      "115/115 [==============================] - 0s 2ms/step - loss: 0.0012\n",
      "Epoch 55/100\n",
      "115/115 [==============================] - 0s 3ms/step - loss: 0.0017\n",
      "Epoch 56/100\n",
      "115/115 [==============================] - 0s 2ms/step - loss: 0.0014\n",
      "Epoch 57/100\n",
      "115/115 [==============================] - 0s 2ms/step - loss: 0.0013\n",
      "Epoch 58/100\n",
      "115/115 [==============================] - 0s 2ms/step - loss: 0.0012\n",
      "Epoch 59/100\n",
      "115/115 [==============================] - 0s 2ms/step - loss: 8.3366e-04\n",
      "Epoch 60/100\n",
      "115/115 [==============================] - 0s 2ms/step - loss: 0.0013\n",
      "Epoch 61/100\n",
      "115/115 [==============================] - 0s 2ms/step - loss: 0.0015\n",
      "Epoch 62/100\n",
      "115/115 [==============================] - 0s 2ms/step - loss: 0.0014\n",
      "Epoch 63/100\n",
      "115/115 [==============================] - 0s 2ms/step - loss: 0.0011\n",
      "Epoch 64/100\n",
      "115/115 [==============================] - 0s 3ms/step - loss: 0.0016\n",
      "Epoch 65/100\n",
      "115/115 [==============================] - 0s 2ms/step - loss: 0.0014\n",
      "Epoch 66/100\n",
      "115/115 [==============================] - 0s 2ms/step - loss: 0.0013\n",
      "Epoch 67/100\n",
      "115/115 [==============================] - 0s 2ms/step - loss: 0.0015\n",
      "Epoch 68/100\n",
      "115/115 [==============================] - 0s 3ms/step - loss: 0.0013\n",
      "Epoch 69/100\n",
      "115/115 [==============================] - 0s 2ms/step - loss: 0.0012\n",
      "Epoch 70/100\n",
      "115/115 [==============================] - 0s 2ms/step - loss: 0.0016\n",
      "Epoch 71/100\n",
      "115/115 [==============================] - 0s 2ms/step - loss: 0.0012\n",
      "Epoch 72/100\n",
      "115/115 [==============================] - 0s 2ms/step - loss: 0.0012\n",
      "Epoch 73/100\n",
      "115/115 [==============================] - 0s 2ms/step - loss: 9.6470e-04\n",
      "Epoch 74/100\n",
      "115/115 [==============================] - 0s 2ms/step - loss: 0.0013\n",
      "Epoch 75/100\n",
      "115/115 [==============================] - 0s 3ms/step - loss: 0.0016\n",
      "Epoch 76/100\n",
      "115/115 [==============================] - 0s 2ms/step - loss: 8.1999e-04\n",
      "Epoch 77/100\n",
      "115/115 [==============================] - 0s 3ms/step - loss: 0.0012\n",
      "Epoch 78/100\n",
      "115/115 [==============================] - 0s 2ms/step - loss: 0.0016\n",
      "Epoch 79/100\n",
      "115/115 [==============================] - 0s 2ms/step - loss: 8.1715e-04\n",
      "Epoch 80/100\n",
      "115/115 [==============================] - 0s 2ms/step - loss: 0.0011\n",
      "Epoch 81/100\n",
      "115/115 [==============================] - 0s 3ms/step - loss: 0.0011\n",
      "Epoch 82/100\n",
      "115/115 [==============================] - 0s 2ms/step - loss: 0.0011\n",
      "Epoch 83/100\n",
      "115/115 [==============================] - 0s 2ms/step - loss: 9.0749e-04\n",
      "Epoch 84/100\n",
      "115/115 [==============================] - 0s 2ms/step - loss: 8.7341e-04\n",
      "Epoch 85/100\n",
      "115/115 [==============================] - 0s 3ms/step - loss: 0.0011\n",
      "Epoch 86/100\n",
      "115/115 [==============================] - 0s 2ms/step - loss: 9.8141e-04\n",
      "Epoch 87/100\n",
      "115/115 [==============================] - 0s 2ms/step - loss: 0.0012\n",
      "Epoch 88/100\n",
      "115/115 [==============================] - 0s 2ms/step - loss: 9.4979e-04\n",
      "Epoch 89/100\n",
      "115/115 [==============================] - 0s 3ms/step - loss: 0.0011\n",
      "Epoch 90/100\n",
      "115/115 [==============================] - 0s 2ms/step - loss: 9.9466e-04\n",
      "Epoch 91/100\n",
      "115/115 [==============================] - 0s 2ms/step - loss: 0.0011\n",
      "Epoch 92/100\n",
      "115/115 [==============================] - 0s 2ms/step - loss: 0.0011\n",
      "Epoch 93/100\n",
      "115/115 [==============================] - 0s 2ms/step - loss: 0.0013\n",
      "Epoch 94/100\n",
      "115/115 [==============================] - 0s 2ms/step - loss: 0.0011\n",
      "Epoch 95/100\n",
      "115/115 [==============================] - 0s 2ms/step - loss: 0.0011\n",
      "Epoch 96/100\n",
      "115/115 [==============================] - 0s 2ms/step - loss: 9.5781e-04\n",
      "Epoch 97/100\n",
      "115/115 [==============================] - 0s 2ms/step - loss: 9.2513e-04\n",
      "Epoch 98/100\n",
      "115/115 [==============================] - 0s 2ms/step - loss: 0.0012\n",
      "Epoch 99/100\n",
      "115/115 [==============================] - 0s 2ms/step - loss: 0.0012\n",
      "Epoch 100/100\n",
      "115/115 [==============================] - 0s 2ms/step - loss: 0.0011\n"
     ]
    },
    {
     "data": {
      "text/plain": [
       "<keras.callbacks.callbacks.History at 0x2ede0f366c8>"
      ]
     },
     "execution_count": 115,
     "metadata": {},
     "output_type": "execute_result"
    }
   ],
   "source": [
    "model.compile(optimizer='adam', loss = 'mean_squared_error')\n",
    "model.fit(X, y, epochs = 100, batch_size=32)"
   ]
  },
  {
   "cell_type": "code",
   "execution_count": 116,
   "metadata": {},
   "outputs": [
    {
     "data": {
      "text/plain": [
       "{'loss': [0.17805458657119586,\n",
       "  0.10949542859326238,\n",
       "  0.048233491311902583,\n",
       "  0.03065360431437907,\n",
       "  0.024681616056224574,\n",
       "  0.014326521446523459,\n",
       "  0.01265661435039795,\n",
       "  0.006188988654226389,\n",
       "  0.005668906746027262,\n",
       "  0.0033673465353153322,\n",
       "  0.004006068533003006,\n",
       "  0.004146654392673594,\n",
       "  0.002908398391193022,\n",
       "  0.0029760487094197584,\n",
       "  0.0025036928952550113,\n",
       "  0.002846564099435573,\n",
       "  0.0023238760682389786,\n",
       "  0.002761371289987279,\n",
       "  0.0029999310272219386,\n",
       "  0.0019792898831403126,\n",
       "  0.0025683915283045045,\n",
       "  0.0024082134852347814,\n",
       "  0.001501287138291999,\n",
       "  0.0017750526515200086,\n",
       "  0.0014002471160062628,\n",
       "  0.001758821910429422,\n",
       "  0.0023357673791115697,\n",
       "  0.0019405385327484945,\n",
       "  0.0032596813656551684,\n",
       "  0.0019067859682052031,\n",
       "  0.00205997899984536,\n",
       "  0.00197897188304721,\n",
       "  0.0017738638962011622,\n",
       "  0.002457140321316926,\n",
       "  0.0013925640540116506,\n",
       "  0.001729116326643397,\n",
       "  0.0016644924691797275,\n",
       "  0.0021089912614906613,\n",
       "  0.0014749336096903552,\n",
       "  0.001618422451429069,\n",
       "  0.0017700721064339514,\n",
       "  0.0017098828471954102,\n",
       "  0.0017326447626818781,\n",
       "  0.0020362357198989585,\n",
       "  0.00142275869704621,\n",
       "  0.0015296400666398847,\n",
       "  0.0016132901706125426,\n",
       "  0.0016344567214179298,\n",
       "  0.0012687855177437482,\n",
       "  0.0011023046995472649,\n",
       "  0.001679454369308508,\n",
       "  0.0013216061709934602,\n",
       "  0.0014772582996596137,\n",
       "  0.0012351232540348301,\n",
       "  0.0017250874727640464,\n",
       "  0.0013778277480488885,\n",
       "  0.0013101405018697615,\n",
       "  0.0012285222997888922,\n",
       "  0.0008336562541839869,\n",
       "  0.0013065426772379356,\n",
       "  0.0015431836060167332,\n",
       "  0.0013532055531749907,\n",
       "  0.0011253957014085482,\n",
       "  0.0015958297182805837,\n",
       "  0.001418620426936642,\n",
       "  0.001328017234640277,\n",
       "  0.0014755749467598356,\n",
       "  0.0013304069491467722,\n",
       "  0.0011813604070440582,\n",
       "  0.0015516981452136584,\n",
       "  0.0012331181600608904,\n",
       "  0.0011827507005680515,\n",
       "  0.0009647020503230717,\n",
       "  0.0013103805937925758,\n",
       "  0.001564259576084821,\n",
       "  0.0008199888848416183,\n",
       "  0.0011802445013966898,\n",
       "  0.001585268371981447,\n",
       "  0.0008171490368271328,\n",
       "  0.0011421870723690676,\n",
       "  0.0010770694585517048,\n",
       "  0.001142835549240851,\n",
       "  0.0009074927408896063,\n",
       "  0.0008734081750330718,\n",
       "  0.0011473225581500194,\n",
       "  0.0009814123359873242,\n",
       "  0.0012245530211974097,\n",
       "  0.0009497876825701931,\n",
       "  0.0010944507484648214,\n",
       "  0.0009946640889646242,\n",
       "  0.0011047684283846098,\n",
       "  0.0011070520191898813,\n",
       "  0.0012713865579470345,\n",
       "  0.0010676663460047996,\n",
       "  0.001052307353719421,\n",
       "  0.0009578076140631152,\n",
       "  0.0009251347722728615,\n",
       "  0.0011623569217551013,\n",
       "  0.001208334140803503,\n",
       "  0.0010744040548477485]}"
      ]
     },
     "execution_count": 116,
     "metadata": {},
     "output_type": "execute_result"
    }
   ],
   "source": [
    "model.history.history"
   ]
  },
  {
   "cell_type": "code",
   "execution_count": 117,
   "metadata": {},
   "outputs": [
    {
     "data": {
      "text/plain": [
       "[<matplotlib.lines.Line2D at 0x2ede15b3688>]"
      ]
     },
     "execution_count": 117,
     "metadata": {},
     "output_type": "execute_result"
    },
    {
     "data": {
      "image/png": "[encoded data removed]",
      "text/plain": [
       "<Figure size 432x288 with 1 Axes>"
      ]
     },
     "metadata": {
      "needs_background": "light"
     },
     "output_type": "display_data"
    }
   ],
   "source": [
    "x_axis = [i for i in range(100)]\n",
    "plt.plot(x_axis, model.history.history['loss'])"
   ]
  },
  {
   "cell_type": "code",
   "execution_count": 118,
   "metadata": {},
   "outputs": [
    {
     "data": {
      "text/plain": [
       "(29, 30, 1)"
      ]
     },
     "execution_count": 118,
     "metadata": {},
     "output_type": "execute_result"
    }
   ],
   "source": [
    "X[-1:-30:-1].shape"
   ]
  },
  {
   "cell_type": "code",
   "execution_count": 119,
   "metadata": {},
   "outputs": [
    {
     "data": {
      "text/plain": [
       "array([[0.94766927]], dtype=float32)"
      ]
     },
     "execution_count": 119,
     "metadata": {},
     "output_type": "execute_result"
    }
   ],
   "source": [
    "model.predict(X[-1].reshape((1,30,1)))"
   ]
  },
  {
   "cell_type": "code",
   "execution_count": 120,
   "metadata": {},
   "outputs": [],
   "source": [
    "from sklearn.model_selection import train_test_split"
   ]
  },
  {
   "cell_type": "code",
   "execution_count": 121,
   "metadata": {},
   "outputs": [],
   "source": [
    "x_train, x_test, y_train, y_test = train_test_split(X, y, train_size = 0.8, random_state = 100)"
   ]
  },
  {
   "cell_type": "code",
   "execution_count": 122,
   "metadata": {},
   "outputs": [
    {
     "data": {
      "text/plain": [
       "(92, 30, 1)"
      ]
     },
     "execution_count": 122,
     "metadata": {},
     "output_type": "execute_result"
    }
   ],
   "source": [
    "x_train.shape"
   ]
  },
  {
   "cell_type": "code",
   "execution_count": 123,
   "metadata": {},
   "outputs": [
    {
     "data": {
      "text/plain": [
       "(92,)"
      ]
     },
     "execution_count": 123,
     "metadata": {},
     "output_type": "execute_result"
    }
   ],
   "source": [
    "y_train.shape"
   ]
  },
  {
   "cell_type": "code",
   "execution_count": 124,
   "metadata": {},
   "outputs": [
    {
     "data": {
      "text/plain": [
       "(23, 30, 1)"
      ]
     },
     "execution_count": 124,
     "metadata": {},
     "output_type": "execute_result"
    }
   ],
   "source": [
    "x_test.shape"
   ]
  },
  {
   "cell_type": "code",
   "execution_count": 125,
   "metadata": {},
   "outputs": [
    {
     "data": {
      "text/plain": [
       "(23,)"
      ]
     },
     "execution_count": 125,
     "metadata": {},
     "output_type": "execute_result"
    }
   ],
   "source": [
    "y_test.shape"
   ]
  },
  {
   "cell_type": "code",
   "execution_count": 127,
   "metadata": {},
   "outputs": [],
   "source": [
    "from sklearn.metrics import accuracy_score"
   ]
  },
  {
   "cell_type": "code",
   "execution_count": null,
   "metadata": {},
   "outputs": [],
   "source": []
  }
 ],
 "metadata": {
  "kernelspec": {
   "display_name": "Python 3",
   "language": "python",
   "name": "python3"
  },
  "language_info": {
   "codemirror_mode": {
    "name": "ipython",
    "version": 3
   },
   "file_extension": ".py",
   "mimetype": "text/x-python",
   "name": "python",
   "nbconvert_exporter": "python",
   "pygments_lexer": "ipython3",
   "version": "3.7.6"
  }
 },
 "nbformat": 4,
 "nbformat_minor": 4
}
