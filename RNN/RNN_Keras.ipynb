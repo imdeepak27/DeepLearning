{
 "cells": [
  {
   "cell_type": "code",
   "execution_count": 1,
   "metadata": {},
   "outputs": [
    {
     "name": "stderr",
     "output_type": "stream",
     "text": [
      "Using TensorFlow backend.\n"
     ]
    }
   ],
   "source": [
    "import numpy as np\n",
    "import pandas as pd\n",
    "from keras.layers import Dense, Dropout, LSTM\n",
    "from keras.models import Sequential\n",
    "from sklearn.preprocessing import MinMaxScaler\n",
    "import matplotlib.pyplot as plt"
   ]
  },
  {
   "cell_type": "code",
   "execution_count": 2,
   "metadata": {},
   "outputs": [],
   "source": [
    "train = pd.read_csv('SP500_train.csv')\n",
    "test = pd.read_csv('SP500_test.csv')"
   ]
  },
  {
   "cell_type": "code",
   "execution_count": 3,
   "metadata": {},
   "outputs": [
    {
     "data": {
      "text/html": [
       "<div>\n",
       "<style scoped>\n",
       "    .dataframe tbody tr th:only-of-type {\n",
       "        vertical-align: middle;\n",
       "    }\n",
       "\n",
       "    .dataframe tbody tr th {\n",
       "        vertical-align: top;\n",
       "    }\n",
       "\n",
       "    .dataframe thead th {\n",
       "        text-align: right;\n",
       "    }\n",
       "</style>\n",
       "<table border=\"1\" class=\"dataframe\">\n",
       "  <thead>\n",
       "    <tr style=\"text-align: right;\">\n",
       "      <th></th>\n",
       "      <th>date</th>\n",
       "      <th>open</th>\n",
       "      <th>high</th>\n",
       "      <th>low</th>\n",
       "      <th>close</th>\n",
       "      <th>adj_close</th>\n",
       "      <th>volume</th>\n",
       "    </tr>\n",
       "  </thead>\n",
       "  <tbody>\n",
       "    <tr>\n",
       "      <th>0</th>\n",
       "      <td>2012-01-03</td>\n",
       "      <td>1258.859985</td>\n",
       "      <td>1284.619995</td>\n",
       "      <td>1258.859985</td>\n",
       "      <td>1277.060059</td>\n",
       "      <td>1277.060059</td>\n",
       "      <td>3943710000</td>\n",
       "    </tr>\n",
       "    <tr>\n",
       "      <th>1</th>\n",
       "      <td>2012-01-04</td>\n",
       "      <td>1277.030029</td>\n",
       "      <td>1278.729980</td>\n",
       "      <td>1268.099976</td>\n",
       "      <td>1277.300049</td>\n",
       "      <td>1277.300049</td>\n",
       "      <td>3592580000</td>\n",
       "    </tr>\n",
       "    <tr>\n",
       "      <th>2</th>\n",
       "      <td>2012-01-05</td>\n",
       "      <td>1277.300049</td>\n",
       "      <td>1283.050049</td>\n",
       "      <td>1265.260010</td>\n",
       "      <td>1281.060059</td>\n",
       "      <td>1281.060059</td>\n",
       "      <td>4315950000</td>\n",
       "    </tr>\n",
       "    <tr>\n",
       "      <th>3</th>\n",
       "      <td>2012-01-06</td>\n",
       "      <td>1280.930054</td>\n",
       "      <td>1281.839966</td>\n",
       "      <td>1273.339966</td>\n",
       "      <td>1277.810059</td>\n",
       "      <td>1277.810059</td>\n",
       "      <td>3656830000</td>\n",
       "    </tr>\n",
       "    <tr>\n",
       "      <th>4</th>\n",
       "      <td>2012-01-09</td>\n",
       "      <td>1277.829956</td>\n",
       "      <td>1281.989990</td>\n",
       "      <td>1274.550049</td>\n",
       "      <td>1280.699951</td>\n",
       "      <td>1280.699951</td>\n",
       "      <td>3371600000</td>\n",
       "    </tr>\n",
       "  </tbody>\n",
       "</table>\n",
       "</div>"
      ],
      "text/plain": [
       "         date         open         high          low        close  \\\n",
       "0  2012-01-03  1258.859985  1284.619995  1258.859985  1277.060059   \n",
       "1  2012-01-04  1277.030029  1278.729980  1268.099976  1277.300049   \n",
       "2  2012-01-05  1277.300049  1283.050049  1265.260010  1281.060059   \n",
       "3  2012-01-06  1280.930054  1281.839966  1273.339966  1277.810059   \n",
       "4  2012-01-09  1277.829956  1281.989990  1274.550049  1280.699951   \n",
       "\n",
       "     adj_close      volume  \n",
       "0  1277.060059  3943710000  \n",
       "1  1277.300049  3592580000  \n",
       "2  1281.060059  4315950000  \n",
       "3  1277.810059  3656830000  \n",
       "4  1280.699951  3371600000  "
      ]
     },
     "execution_count": 3,
     "metadata": {},
     "output_type": "execute_result"
    }
   ],
   "source": [
    "train.head()"
   ]
  },
  {
   "cell_type": "code",
   "execution_count": 4,
   "metadata": {},
   "outputs": [
    {
     "data": {
      "text/plain": [
       "(1258, 7)"
      ]
     },
     "execution_count": 4,
     "metadata": {},
     "output_type": "execute_result"
    }
   ],
   "source": [
    "train.shape"
   ]
  },
  {
   "cell_type": "code",
   "execution_count": 5,
   "metadata": {},
   "outputs": [],
   "source": [
    "train_df = train.iloc[:, 5:6].values\n",
    "test_df = test.iloc[:, 5:6].values"
   ]
  },
  {
   "cell_type": "code",
   "execution_count": 6,
   "metadata": {},
   "outputs": [],
   "source": [
    "minmax = MinMaxScaler()\n",
    "scaled_train = minmax.fit_transform(train_df)"
   ]
  },
  {
   "cell_type": "code",
   "execution_count": 7,
   "metadata": {},
   "outputs": [
    {
     "data": {
      "text/plain": [
       "(1258, 1)"
      ]
     },
     "execution_count": 7,
     "metadata": {},
     "output_type": "execute_result"
    }
   ],
   "source": [
    "scaled_train.shape"
   ]
  },
  {
   "cell_type": "code",
   "execution_count": 8,
   "metadata": {},
   "outputs": [],
   "source": [
    "n = len(scaled_train)"
   ]
  },
  {
   "cell_type": "code",
   "execution_count": 9,
   "metadata": {},
   "outputs": [],
   "source": [
    "x_train = []\n",
    "y_train = []"
   ]
  },
  {
   "cell_type": "code",
   "execution_count": 10,
   "metadata": {},
   "outputs": [],
   "source": [
    "for i in range(40, n):\n",
    "    x_train.append(scaled_train[i - 40 : i, 0])\n",
    "    y_train.append(scaled_train[i, 0])"
   ]
  },
  {
   "cell_type": "code",
   "execution_count": 11,
   "metadata": {},
   "outputs": [
    {
     "data": {
      "text/plain": [
       "array([0.        , 0.00024128, 0.00402148, 0.00075403, 0.00365943,\n",
       "       0.01510054, 0.01550271, 0.01853894, 0.01209449, 0.01669916,\n",
       "       0.0311463 , 0.03764095, 0.03852568, 0.039149  , 0.03779178,\n",
       "       0.04926307, 0.0415921 , 0.03948073, 0.03614296, 0.03553976,\n",
       "       0.0472824 , 0.04874026, 0.06820418, 0.06763105, 0.07036575,\n",
       "       0.07329128, 0.07529196, 0.06593204, 0.07511106, 0.07383422,\n",
       "       0.06652517, 0.08141474, 0.08462181, 0.08560705, 0.0810327 ,\n",
       "       0.08686376, 0.08915603, 0.09101594, 0.09563067, 0.08909577])"
      ]
     },
     "execution_count": 11,
     "metadata": {},
     "output_type": "execute_result"
    }
   ],
   "source": [
    "x_train[0]"
   ]
  },
  {
   "cell_type": "code",
   "execution_count": 13,
   "metadata": {},
   "outputs": [
    {
     "data": {
      "text/plain": [
       "0.09755083705434409"
      ]
     },
     "execution_count": 13,
     "metadata": {},
     "output_type": "execute_result"
    }
   ],
   "source": [
    "y_train[0]"
   ]
  },
  {
   "cell_type": "code",
   "execution_count": 14,
   "metadata": {},
   "outputs": [],
   "source": [
    "x_train = np.asarray(x_train)\n",
    "y_train = np.asarray(y_train)"
   ]
  },
  {
   "cell_type": "code",
   "execution_count": 15,
   "metadata": {},
   "outputs": [
    {
     "data": {
      "text/plain": [
       "(1218, 40)"
      ]
     },
     "execution_count": 15,
     "metadata": {},
     "output_type": "execute_result"
    }
   ],
   "source": [
    "x_train.shape"
   ]
  },
  {
   "cell_type": "code",
   "execution_count": 16,
   "metadata": {},
   "outputs": [],
   "source": [
    "x_train = x_train.reshape((x_train.shape[0], x_train.shape[1], 1))"
   ]
  },
  {
   "cell_type": "code",
   "execution_count": 17,
   "metadata": {},
   "outputs": [
    {
     "data": {
      "text/plain": [
       "(1218, 40, 1)"
      ]
     },
     "execution_count": 17,
     "metadata": {},
     "output_type": "execute_result"
    }
   ],
   "source": [
    "x_train.shape"
   ]
  },
  {
   "cell_type": "code",
   "execution_count": 18,
   "metadata": {},
   "outputs": [],
   "source": [
    "model = Sequential()\n",
    "\n",
    "model.add(LSTM(units = 50, return_sequences = True, input_shape = (x_train.shape[1], 1)))\n",
    "model.add(Dropout (0.5))\n",
    "model.add(LSTM(units = 25, return_sequences = True))\n",
    "model.add(Dropout(0.5))\n",
    "model.add(LSTM(units = 25))\n",
    "model.add(Dense(units = 1))"
   ]
  },
  {
   "cell_type": "code",
   "execution_count": 20,
   "metadata": {},
   "outputs": [
    {
     "name": "stdout",
     "output_type": "stream",
     "text": [
      "Model: \"sequential_1\"\n",
      "_________________________________________________________________\n",
      "Layer (type)                 Output Shape              Param #   \n",
      "=================================================================\n",
      "lstm_1 (LSTM)                (None, 40, 50)            10400     \n",
      "_________________________________________________________________\n",
      "dropout_1 (Dropout)          (None, 40, 50)            0         \n",
      "_________________________________________________________________\n",
      "lstm_2 (LSTM)                (None, 40, 25)            7600      \n",
      "_________________________________________________________________\n",
      "dropout_2 (Dropout)          (None, 40, 25)            0         \n",
      "_________________________________________________________________\n",
      "lstm_3 (LSTM)                (None, 25)                5100      \n",
      "_________________________________________________________________\n",
      "dense_1 (Dense)              (None, 1)                 26        \n",
      "=================================================================\n",
      "Total params: 23,126\n",
      "Trainable params: 23,126\n",
      "Non-trainable params: 0\n",
      "_________________________________________________________________\n"
     ]
    }
   ],
   "source": [
    "model.summary()"
   ]
  },
  {
   "cell_type": "code",
   "execution_count": 19,
   "metadata": {},
   "outputs": [
    {
     "name": "stdout",
     "output_type": "stream",
     "text": [
      "Epoch 1/100\n",
      "1218/1218 [==============================] - 16s 13ms/step - loss: 0.0673\n",
      "Epoch 2/100\n",
      "1218/1218 [==============================] - 3s 2ms/step - loss: 0.0061\n",
      "Epoch 3/100\n",
      "1218/1218 [==============================] - 3s 2ms/step - loss: 0.0043\n",
      "Epoch 4/100\n",
      "1218/1218 [==============================] - 3s 2ms/step - loss: 0.0038\n",
      "Epoch 5/100\n",
      "1218/1218 [==============================] - 3s 2ms/step - loss: 0.0036\n",
      "Epoch 6/100\n",
      "1218/1218 [==============================] - 3s 2ms/step - loss: 0.0031\n",
      "Epoch 7/100\n",
      "1218/1218 [==============================] - 3s 2ms/step - loss: 0.0031\n",
      "Epoch 8/100\n",
      "1218/1218 [==============================] - 3s 2ms/step - loss: 0.0029\n",
      "Epoch 9/100\n",
      "1218/1218 [==============================] - 3s 2ms/step - loss: 0.0028\n",
      "Epoch 10/100\n",
      "1218/1218 [==============================] - 3s 2ms/step - loss: 0.0027\n",
      "Epoch 11/100\n",
      "1218/1218 [==============================] - 3s 2ms/step - loss: 0.0029\n",
      "Epoch 12/100\n",
      "1218/1218 [==============================] - 3s 2ms/step - loss: 0.0026\n",
      "Epoch 13/100\n",
      "1218/1218 [==============================] - 3s 2ms/step - loss: 0.0027\n",
      "Epoch 14/100\n",
      "1218/1218 [==============================] - 3s 2ms/step - loss: 0.0025\n",
      "Epoch 15/100\n",
      "1218/1218 [==============================] - 3s 2ms/step - loss: 0.0024\n",
      "Epoch 16/100\n",
      "1218/1218 [==============================] - 3s 2ms/step - loss: 0.0025\n",
      "Epoch 17/100\n",
      "1218/1218 [==============================] - 3s 2ms/step - loss: 0.0025\n",
      "Epoch 18/100\n",
      "1218/1218 [==============================] - 3s 2ms/step - loss: 0.0026\n",
      "Epoch 19/100\n",
      "1218/1218 [==============================] - 3s 2ms/step - loss: 0.0025\n",
      "Epoch 20/100\n",
      "1218/1218 [==============================] - 3s 2ms/step - loss: 0.0023\n",
      "Epoch 21/100\n",
      "1218/1218 [==============================] - 3s 2ms/step - loss: 0.0020\n",
      "Epoch 22/100\n",
      "1218/1218 [==============================] - 3s 2ms/step - loss: 0.0020\n",
      "Epoch 23/100\n",
      "1218/1218 [==============================] - 3s 2ms/step - loss: 0.0021\n",
      "Epoch 24/100\n",
      "1218/1218 [==============================] - 3s 2ms/step - loss: 0.0022\n",
      "Epoch 25/100\n",
      "1218/1218 [==============================] - 3s 2ms/step - loss: 0.0022\n",
      "Epoch 26/100\n",
      "1218/1218 [==============================] - 3s 2ms/step - loss: 0.0024\n",
      "Epoch 27/100\n",
      "1218/1218 [==============================] - 3s 2ms/step - loss: 0.0020\n",
      "Epoch 28/100\n",
      "1218/1218 [==============================] - 3s 2ms/step - loss: 0.0019\n",
      "Epoch 29/100\n",
      "1218/1218 [==============================] - 3s 2ms/step - loss: 0.0021\n",
      "Epoch 30/100\n",
      "1218/1218 [==============================] - 3s 2ms/step - loss: 0.0018\n",
      "Epoch 31/100\n",
      "1218/1218 [==============================] - 3s 2ms/step - loss: 0.0017\n",
      "Epoch 32/100\n",
      "1218/1218 [==============================] - 3s 2ms/step - loss: 0.0017\n",
      "Epoch 33/100\n",
      "1218/1218 [==============================] - 3s 2ms/step - loss: 0.0018\n",
      "Epoch 34/100\n",
      "1218/1218 [==============================] - 3s 2ms/step - loss: 0.0022\n",
      "Epoch 35/100\n",
      "1218/1218 [==============================] - 3s 2ms/step - loss: 0.0018\n",
      "Epoch 36/100\n",
      "1218/1218 [==============================] - 3s 2ms/step - loss: 0.0018\n",
      "Epoch 37/100\n",
      "1218/1218 [==============================] - 3s 2ms/step - loss: 0.0018\n",
      "Epoch 38/100\n",
      "1218/1218 [==============================] - 3s 2ms/step - loss: 0.0018\n",
      "Epoch 39/100\n",
      "1218/1218 [==============================] - 3s 3ms/step - loss: 0.0017\n",
      "Epoch 40/100\n",
      "1218/1218 [==============================] - 3s 3ms/step - loss: 0.0017\n",
      "Epoch 41/100\n",
      "1218/1218 [==============================] - 3s 3ms/step - loss: 0.0016\n",
      "Epoch 42/100\n",
      "1218/1218 [==============================] - 3s 3ms/step - loss: 0.0016\n",
      "Epoch 43/100\n",
      "1218/1218 [==============================] - 3s 3ms/step - loss: 0.0016\n",
      "Epoch 44/100\n",
      "1218/1218 [==============================] - 3s 2ms/step - loss: 0.0016\n",
      "Epoch 45/100\n",
      "1218/1218 [==============================] - 3s 2ms/step - loss: 0.0015\n",
      "Epoch 46/100\n",
      "1218/1218 [==============================] - 3s 2ms/step - loss: 0.0015\n",
      "Epoch 47/100\n",
      "1218/1218 [==============================] - 3s 2ms/step - loss: 0.0015\n",
      "Epoch 48/100\n",
      "1218/1218 [==============================] - 3s 2ms/step - loss: 0.0015\n",
      "Epoch 49/100\n",
      "1218/1218 [==============================] - 3s 2ms/step - loss: 0.0015\n",
      "Epoch 50/100\n",
      "1218/1218 [==============================] - 3s 2ms/step - loss: 0.0014\n",
      "Epoch 51/100\n",
      "1218/1218 [==============================] - 3s 2ms/step - loss: 0.0016\n",
      "Epoch 52/100\n",
      "1218/1218 [==============================] - 3s 2ms/step - loss: 0.0015\n",
      "Epoch 53/100\n",
      "1218/1218 [==============================] - 3s 2ms/step - loss: 0.0016\n",
      "Epoch 54/100\n",
      "1218/1218 [==============================] - 3s 3ms/step - loss: 0.0014\n",
      "Epoch 55/100\n",
      "1218/1218 [==============================] - 3s 2ms/step - loss: 0.0015\n",
      "Epoch 56/100\n",
      "1218/1218 [==============================] - 3s 2ms/step - loss: 0.0016\n",
      "Epoch 57/100\n",
      "1218/1218 [==============================] - 3s 2ms/step - loss: 0.0014\n",
      "Epoch 58/100\n",
      "1218/1218 [==============================] - 3s 2ms/step - loss: 0.0013\n",
      "Epoch 59/100\n",
      "1218/1218 [==============================] - 3s 2ms/step - loss: 0.0013\n",
      "Epoch 60/100\n",
      "1218/1218 [==============================] - 3s 2ms/step - loss: 0.0014\n",
      "Epoch 61/100\n",
      "1218/1218 [==============================] - 3s 2ms/step - loss: 0.0025\n",
      "Epoch 62/100\n",
      "1218/1218 [==============================] - 3s 2ms/step - loss: 0.0014\n",
      "Epoch 63/100\n",
      "1218/1218 [==============================] - 3s 2ms/step - loss: 0.0013\n",
      "Epoch 64/100\n",
      "1218/1218 [==============================] - 3s 2ms/step - loss: 0.0013\n",
      "Epoch 65/100\n",
      "1218/1218 [==============================] - 3s 2ms/step - loss: 0.0015\n",
      "Epoch 66/100\n",
      "1218/1218 [==============================] - 3s 2ms/step - loss: 0.0014\n",
      "Epoch 67/100\n",
      "1218/1218 [==============================] - 3s 2ms/step - loss: 0.0013\n",
      "Epoch 68/100\n",
      "1218/1218 [==============================] - 3s 2ms/step - loss: 0.0013\n",
      "Epoch 69/100\n",
      "1218/1218 [==============================] - 3s 2ms/step - loss: 0.0013\n",
      "Epoch 70/100\n",
      "1218/1218 [==============================] - 3s 3ms/step - loss: 0.0012\n",
      "Epoch 71/100\n",
      "1218/1218 [==============================] - 3s 3ms/step - loss: 0.0013\n",
      "Epoch 72/100\n",
      "1218/1218 [==============================] - 3s 2ms/step - loss: 0.0014\n",
      "Epoch 73/100\n",
      "1218/1218 [==============================] - 3s 3ms/step - loss: 0.0013\n",
      "Epoch 74/100\n",
      "1218/1218 [==============================] - 3s 3ms/step - loss: 0.0012\n",
      "Epoch 75/100\n",
      "1218/1218 [==============================] - 3s 2ms/step - loss: 0.0015\n",
      "Epoch 76/100\n",
      "1218/1218 [==============================] - 3s 3ms/step - loss: 0.0012\n",
      "Epoch 77/100\n",
      "1218/1218 [==============================] - 3s 3ms/step - loss: 0.0013\n",
      "Epoch 78/100\n",
      "1218/1218 [==============================] - 3s 2ms/step - loss: 0.0013\n",
      "Epoch 79/100\n",
      "1218/1218 [==============================] - 3s 2ms/step - loss: 0.0013\n",
      "Epoch 80/100\n",
      "1218/1218 [==============================] - 3s 3ms/step - loss: 0.0013\n",
      "Epoch 81/100\n",
      "1218/1218 [==============================] - 3s 2ms/step - loss: 0.0014\n",
      "Epoch 82/100\n",
      "1218/1218 [==============================] - 3s 2ms/step - loss: 0.0012\n",
      "Epoch 83/100\n",
      "1218/1218 [==============================] - 3s 2ms/step - loss: 0.0016\n",
      "Epoch 84/100\n",
      "1218/1218 [==============================] - 3s 3ms/step - loss: 0.0012\n",
      "Epoch 85/100\n",
      "1218/1218 [==============================] - 3s 3ms/step - loss: 0.0012\n",
      "Epoch 86/100\n",
      "1218/1218 [==============================] - 3s 3ms/step - loss: 0.0011\n",
      "Epoch 87/100\n",
      "1218/1218 [==============================] - 3s 3ms/step - loss: 0.0014\n",
      "Epoch 88/100\n",
      "1218/1218 [==============================] - 3s 3ms/step - loss: 0.0011\n",
      "Epoch 89/100\n",
      "1218/1218 [==============================] - 3s 3ms/step - loss: 0.0012\n",
      "Epoch 90/100\n",
      "1218/1218 [==============================] - 3s 2ms/step - loss: 0.0013\n",
      "Epoch 91/100\n",
      "1218/1218 [==============================] - 3s 2ms/step - loss: 0.0013\n",
      "Epoch 92/100\n",
      "1218/1218 [==============================] - 3s 2ms/step - loss: 0.0012\n",
      "Epoch 93/100\n",
      "1218/1218 [==============================] - 3s 2ms/step - loss: 0.0012\n",
      "Epoch 94/100\n",
      "1218/1218 [==============================] - 3s 2ms/step - loss: 0.0013\n",
      "Epoch 95/100\n",
      "1218/1218 [==============================] - 3s 2ms/step - loss: 0.0012\n",
      "Epoch 96/100\n",
      "1218/1218 [==============================] - 3s 2ms/step - loss: 0.0011\n",
      "Epoch 97/100\n"
     ]
    },
    {
     "name": "stdout",
     "output_type": "stream",
     "text": [
      "1218/1218 [==============================] - 3s 2ms/step - loss: 0.0013\n",
      "Epoch 98/100\n",
      "1218/1218 [==============================] - 3s 2ms/step - loss: 0.0012\n",
      "Epoch 99/100\n",
      "1218/1218 [==============================] - 3s 2ms/step - loss: 0.0012\n",
      "Epoch 100/100\n",
      "1218/1218 [==============================] - 3s 2ms/step - loss: 0.0011\n"
     ]
    },
    {
     "data": {
      "text/plain": [
       "<keras.callbacks.callbacks.History at 0x1642f408c48>"
      ]
     },
     "execution_count": 19,
     "metadata": {},
     "output_type": "execute_result"
    }
   ],
   "source": [
    "model.compile(optimizer='adam', loss = 'mean_squared_error')\n",
    "model.fit(x_train, y_train,epochs = 100, batch_size=32)"
   ]
  },
  {
   "cell_type": "code",
   "execution_count": 21,
   "metadata": {},
   "outputs": [
    {
     "data": {
      "text/plain": [
       "{'loss': [0.06726443535710987,\n",
       "  0.006129732516048284,\n",
       "  0.004275339903319117,\n",
       "  0.003783543014972301,\n",
       "  0.003554797549930834,\n",
       "  0.0031121893845535266,\n",
       "  0.0031152211549448704,\n",
       "  0.0029347839601619294,\n",
       "  0.002843383617839839,\n",
       "  0.0027283084309661426,\n",
       "  0.0029480821240467,\n",
       "  0.0025814452926568652,\n",
       "  0.002678488744980975,\n",
       "  0.0024623760283727365,\n",
       "  0.002418512579402313,\n",
       "  0.0024537940177766756,\n",
       "  0.0024823457467536424,\n",
       "  0.0026423903247142708,\n",
       "  0.002463747251569332,\n",
       "  0.0022719599847943325,\n",
       "  0.0019633774022450932,\n",
       "  0.001981536899073958,\n",
       "  0.002061031390614624,\n",
       "  0.0021708652132254994,\n",
       "  0.0021714391715385705,\n",
       "  0.0023533135082126153,\n",
       "  0.001991185011175478,\n",
       "  0.001894802765764773,\n",
       "  0.0020733303975387306,\n",
       "  0.0017758058869602597,\n",
       "  0.0016777355838754353,\n",
       "  0.0016957752212380442,\n",
       "  0.0018490556679506998,\n",
       "  0.0022237136323855233,\n",
       "  0.0017922609375999271,\n",
       "  0.0018268376581175084,\n",
       "  0.0018221075194585787,\n",
       "  0.001813761090128782,\n",
       "  0.0017407850687042618,\n",
       "  0.0017423916928571831,\n",
       "  0.0015884688562195143,\n",
       "  0.0016370016226257475,\n",
       "  0.0015549409936896367,\n",
       "  0.0016176294139844452,\n",
       "  0.0014913054349672047,\n",
       "  0.0014729963276039792,\n",
       "  0.0014944447694122272,\n",
       "  0.0014716820379991346,\n",
       "  0.0015473086773058512,\n",
       "  0.0014393579041622028,\n",
       "  0.0015653605430084167,\n",
       "  0.001484415184611635,\n",
       "  0.0015510682760980989,\n",
       "  0.0013956967741788624,\n",
       "  0.0015416095182009054,\n",
       "  0.001590400082669477,\n",
       "  0.0014010120801817266,\n",
       "  0.001308849810761031,\n",
       "  0.0013106550676010287,\n",
       "  0.0014049612132492912,\n",
       "  0.002454227405030694,\n",
       "  0.001423257910878397,\n",
       "  0.001275763378500761,\n",
       "  0.0013168743596112505,\n",
       "  0.0014726855554686759,\n",
       "  0.0013651272601429647,\n",
       "  0.0013279936047751084,\n",
       "  0.0012861346421275464,\n",
       "  0.0013165323087434807,\n",
       "  0.0012333258752877808,\n",
       "  0.0012750140531217963,\n",
       "  0.0013975044672758959,\n",
       "  0.0012694847940548349,\n",
       "  0.0012467673588590009,\n",
       "  0.0015468217039860063,\n",
       "  0.0011932796673246695,\n",
       "  0.0013377745794946685,\n",
       "  0.0012549320506815124,\n",
       "  0.001277844915135912,\n",
       "  0.0012556854068573636,\n",
       "  0.0013513027907124367,\n",
       "  0.00119037814484221,\n",
       "  0.0016315038300324645,\n",
       "  0.001223791960977807,\n",
       "  0.001203277102828648,\n",
       "  0.0011104456254560958,\n",
       "  0.0013559053988474665,\n",
       "  0.0010881195667204377,\n",
       "  0.0011865112105497635,\n",
       "  0.0012676782068018059,\n",
       "  0.001282546056774009,\n",
       "  0.001168957547084329,\n",
       "  0.0011989717725022085,\n",
       "  0.0012739632138753026,\n",
       "  0.0011801221244509695,\n",
       "  0.0011191620905875964,\n",
       "  0.0012584493152586183,\n",
       "  0.0011603130033004216,\n",
       "  0.0011922698146824178,\n",
       "  0.001133903333449305]}"
      ]
     },
     "execution_count": 21,
     "metadata": {},
     "output_type": "execute_result"
    }
   ],
   "source": [
    "model.history.history"
   ]
  },
  {
   "cell_type": "code",
   "execution_count": 23,
   "metadata": {},
   "outputs": [
    {
     "data": {
      "text/plain": [
       "[<matplotlib.lines.Line2D at 0x164395171c8>]"
      ]
     },
     "execution_count": 23,
     "metadata": {},
     "output_type": "execute_result"
    },
    {
     "data": {
      "image/png": "[encoded data removed]",
      "text/plain": [
       "<Figure size 432x288 with 1 Axes>"
      ]
     },
     "metadata": {
      "needs_background": "light"
     },
     "output_type": "display_data"
    }
   ],
   "source": [
    "x_axis = [i for i in range(100)]\n",
    "plt.plot(x_axis, model.history.history['loss'])"
   ]
  },
  {
   "cell_type": "code",
   "execution_count": 24,
   "metadata": {},
   "outputs": [
    {
     "data": {
      "text/html": [
       "<div>\n",
       "<style scoped>\n",
       "    .dataframe tbody tr th:only-of-type {\n",
       "        vertical-align: middle;\n",
       "    }\n",
       "\n",
       "    .dataframe tbody tr th {\n",
       "        vertical-align: top;\n",
       "    }\n",
       "\n",
       "    .dataframe thead th {\n",
       "        text-align: right;\n",
       "    }\n",
       "</style>\n",
       "<table border=\"1\" class=\"dataframe\">\n",
       "  <thead>\n",
       "    <tr style=\"text-align: right;\">\n",
       "      <th></th>\n",
       "      <th>date</th>\n",
       "      <th>open</th>\n",
       "      <th>high</th>\n",
       "      <th>low</th>\n",
       "      <th>close</th>\n",
       "      <th>adj_close</th>\n",
       "      <th>volume</th>\n",
       "    </tr>\n",
       "  </thead>\n",
       "  <tbody>\n",
       "    <tr>\n",
       "      <th>1253</th>\n",
       "      <td>2016-12-23</td>\n",
       "      <td>2260.250000</td>\n",
       "      <td>2263.790039</td>\n",
       "      <td>2258.840088</td>\n",
       "      <td>2263.790039</td>\n",
       "      <td>2263.790039</td>\n",
       "      <td>2020550000</td>\n",
       "    </tr>\n",
       "    <tr>\n",
       "      <th>1254</th>\n",
       "      <td>2016-12-27</td>\n",
       "      <td>2266.229980</td>\n",
       "      <td>2273.820068</td>\n",
       "      <td>2266.149902</td>\n",
       "      <td>2268.879883</td>\n",
       "      <td>2268.879883</td>\n",
       "      <td>1987080000</td>\n",
       "    </tr>\n",
       "    <tr>\n",
       "      <th>1255</th>\n",
       "      <td>2016-12-28</td>\n",
       "      <td>2270.229980</td>\n",
       "      <td>2271.310059</td>\n",
       "      <td>2249.110107</td>\n",
       "      <td>2249.919922</td>\n",
       "      <td>2249.919922</td>\n",
       "      <td>2392360000</td>\n",
       "    </tr>\n",
       "    <tr>\n",
       "      <th>1256</th>\n",
       "      <td>2016-12-29</td>\n",
       "      <td>2249.500000</td>\n",
       "      <td>2254.510010</td>\n",
       "      <td>2244.560059</td>\n",
       "      <td>2249.260010</td>\n",
       "      <td>2249.260010</td>\n",
       "      <td>2336370000</td>\n",
       "    </tr>\n",
       "    <tr>\n",
       "      <th>1257</th>\n",
       "      <td>2016-12-30</td>\n",
       "      <td>2251.610107</td>\n",
       "      <td>2253.580078</td>\n",
       "      <td>2233.620117</td>\n",
       "      <td>2238.830078</td>\n",
       "      <td>2238.830078</td>\n",
       "      <td>2670900000</td>\n",
       "    </tr>\n",
       "  </tbody>\n",
       "</table>\n",
       "</div>"
      ],
      "text/plain": [
       "            date         open         high          low        close  \\\n",
       "1253  2016-12-23  2260.250000  2263.790039  2258.840088  2263.790039   \n",
       "1254  2016-12-27  2266.229980  2273.820068  2266.149902  2268.879883   \n",
       "1255  2016-12-28  2270.229980  2271.310059  2249.110107  2249.919922   \n",
       "1256  2016-12-29  2249.500000  2254.510010  2244.560059  2249.260010   \n",
       "1257  2016-12-30  2251.610107  2253.580078  2233.620117  2238.830078   \n",
       "\n",
       "        adj_close      volume  \n",
       "1253  2263.790039  2020550000  \n",
       "1254  2268.879883  1987080000  \n",
       "1255  2249.919922  2392360000  \n",
       "1256  2249.260010  2336370000  \n",
       "1257  2238.830078  2670900000  "
      ]
     },
     "execution_count": 24,
     "metadata": {},
     "output_type": "execute_result"
    }
   ],
   "source": [
    "train.tail()"
   ]
  },
  {
   "cell_type": "code",
   "execution_count": 26,
   "metadata": {},
   "outputs": [
    {
     "data": {
      "text/plain": [
       "(39, 40, 1)"
      ]
     },
     "execution_count": 26,
     "metadata": {},
     "output_type": "execute_result"
    }
   ],
   "source": [
    "x_train[-1:-40:-1].shape"
   ]
  },
  {
   "cell_type": "code",
   "execution_count": 28,
   "metadata": {},
   "outputs": [
    {
     "data": {
      "text/plain": [
       "array([[0.9813145]], dtype=float32)"
      ]
     },
     "execution_count": 28,
     "metadata": {},
     "output_type": "execute_result"
    }
   ],
   "source": [
    "model.predict(x_train[-1].reshape((1,40,1)))"
   ]
  },
  {
   "cell_type": "code",
   "execution_count": null,
   "metadata": {},
   "outputs": [],
   "source": []
  }
 ],
 "metadata": {
  "kernelspec": {
   "display_name": "Python 3",
   "language": "python",
   "name": "python3"
  },
  "language_info": {
   "codemirror_mode": {
    "name": "ipython",
    "version": 3
   },
   "file_extension": ".py",
   "mimetype": "text/x-python",
   "name": "python",
   "nbconvert_exporter": "python",
   "pygments_lexer": "ipython3",
   "version": "3.7.6"
  }
 },
 "nbformat": 4,
 "nbformat_minor": 4
}
