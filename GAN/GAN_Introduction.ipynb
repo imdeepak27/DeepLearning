{
 "cells": [
  {
   "cell_type": "code",
   "execution_count": 1,
   "metadata": {},
   "outputs": [
    {
     "name": "stderr",
     "output_type": "stream",
     "text": [
      "Using TensorFlow backend.\n"
     ]
    }
   ],
   "source": [
    "import numpy as np\n",
    "import matplotlib.pyplot as plt\n",
    "import keras\n",
    "from keras.layers import Dense, Input, Dropout\n",
    "from keras.models import Model, Sequential\n",
    "from keras.datasets import mnist\n",
    "from keras.optimizers import Adam\n",
    "from keras.layers.advanced_activations import LeakyReLU"
   ]
  },
  {
   "cell_type": "code",
   "execution_count": 2,
   "metadata": {},
   "outputs": [],
   "source": [
    "def generator():\n",
    "    gen = Sequential()\n",
    "    gen.add(Dense(units = 256, input_dim = 100))\n",
    "    gen.add(LeakyReLU(0.2))\n",
    "    \n",
    "    gen.add(Dense(units = 512))\n",
    "    gen.add(LeakyReLU(0.2))\n",
    "    \n",
    "    gen.add(Dense(units = 1024))\n",
    "    gen.add(LeakyReLU(0.2))\n",
    "    \n",
    "    gen.add(Dense(units = 784, activation = 'tanh'))\n",
    "    gen.compile(loss = 'binary_crossentropy', optimizer=Adam(0.0002, 0.5))\n",
    "    \n",
    "    return gen"
   ]
  },
  {
   "cell_type": "code",
   "execution_count": 3,
   "metadata": {},
   "outputs": [],
   "source": [
    "g = generator()"
   ]
  },
  {
   "cell_type": "code",
   "execution_count": 4,
   "metadata": {},
   "outputs": [
    {
     "name": "stdout",
     "output_type": "stream",
     "text": [
      "Model: \"sequential_1\"\n",
      "_________________________________________________________________\n",
      "Layer (type)                 Output Shape              Param #   \n",
      "=================================================================\n",
      "dense_1 (Dense)              (None, 256)               25856     \n",
      "_________________________________________________________________\n",
      "leaky_re_lu_1 (LeakyReLU)    (None, 256)               0         \n",
      "_________________________________________________________________\n",
      "dense_2 (Dense)              (None, 512)               131584    \n",
      "_________________________________________________________________\n",
      "leaky_re_lu_2 (LeakyReLU)    (None, 512)               0         \n",
      "_________________________________________________________________\n",
      "dense_3 (Dense)              (None, 1024)              525312    \n",
      "_________________________________________________________________\n",
      "leaky_re_lu_3 (LeakyReLU)    (None, 1024)              0         \n",
      "_________________________________________________________________\n",
      "dense_4 (Dense)              (None, 784)               803600    \n",
      "=================================================================\n",
      "Total params: 1,486,352\n",
      "Trainable params: 1,486,352\n",
      "Non-trainable params: 0\n",
      "_________________________________________________________________\n"
     ]
    }
   ],
   "source": [
    "g.summary()"
   ]
  },
  {
   "cell_type": "code",
   "execution_count": 5,
   "metadata": {},
   "outputs": [],
   "source": [
    "def discriminator():\n",
    "    dis = Sequential()\n",
    "    dis.add(Dense(units = 1024, input_dim = 784))\n",
    "    dis.add(LeakyReLU(0.2))\n",
    "    \n",
    "    dis.add(Dense(units = 512))\n",
    "    dis.add(LeakyReLU(0.2))\n",
    "    \n",
    "    dis.add(Dense(units = 256))\n",
    "    dis.add(LeakyReLU(0.2))\n",
    "    \n",
    "    dis.add(Dense(units = 1, activation = 'sigmoid'))\n",
    "    dis.compile(loss = 'binary_crossentropy', optimizer=Adam(0.0002, 0.5))\n",
    "    \n",
    "    return dis"
   ]
  },
  {
   "cell_type": "code",
   "execution_count": 6,
   "metadata": {},
   "outputs": [],
   "source": [
    "d = discriminator()"
   ]
  },
  {
   "cell_type": "code",
   "execution_count": 7,
   "metadata": {},
   "outputs": [
    {
     "name": "stdout",
     "output_type": "stream",
     "text": [
      "Model: \"sequential_2\"\n",
      "_________________________________________________________________\n",
      "Layer (type)                 Output Shape              Param #   \n",
      "=================================================================\n",
      "dense_5 (Dense)              (None, 1024)              803840    \n",
      "_________________________________________________________________\n",
      "leaky_re_lu_4 (LeakyReLU)    (None, 1024)              0         \n",
      "_________________________________________________________________\n",
      "dense_6 (Dense)              (None, 512)               524800    \n",
      "_________________________________________________________________\n",
      "leaky_re_lu_5 (LeakyReLU)    (None, 512)               0         \n",
      "_________________________________________________________________\n",
      "dense_7 (Dense)              (None, 256)               131328    \n",
      "_________________________________________________________________\n",
      "leaky_re_lu_6 (LeakyReLU)    (None, 256)               0         \n",
      "_________________________________________________________________\n",
      "dense_8 (Dense)              (None, 1)                 257       \n",
      "=================================================================\n",
      "Total params: 1,460,225\n",
      "Trainable params: 1,460,225\n",
      "Non-trainable params: 0\n",
      "_________________________________________________________________\n"
     ]
    }
   ],
   "source": [
    "d.summary()"
   ]
  },
  {
   "cell_type": "code",
   "execution_count": 8,
   "metadata": {},
   "outputs": [],
   "source": [
    "dis = discriminator()\n",
    "gen = generator()\n",
    "dis.trainable = False\n",
    "gan_input = Input(shape = (100,))\n",
    "fake_img = gen(gan_input)\n",
    "gan_output = dis(fake_img)\n",
    "gan = Model(gan_input, gan_output)\n",
    "gan.compile(loss='binary_crossentropy', optimizer = Adam(0.0002,0.5))"
   ]
  },
  {
   "cell_type": "code",
   "execution_count": 13,
   "metadata": {},
   "outputs": [],
   "source": [
    "def plot_images(epoch, gen, examples = 100, dim = (10,10)):\n",
    "    noise = np.random.normal(0,1,[examples, examples])\n",
    "    gen_images = gen.predict(noise)\n",
    "    gen_images = gen_images.reshape(100,28,28)\n",
    "    plt.figure(figsize=dim)\n",
    "    for i in range(gen_images.shape[0]):\n",
    "        plt.subplot(dim[0], dim[1], i+1)\n",
    "        plt.imshow(gen_images[i])\n",
    "        plt.axis('off')\n",
    "    plt.savefig('Gan_imgs/img_{}.png'.format(epoch))"
   ]
  },
  {
   "cell_type": "code",
   "execution_count": 14,
   "metadata": {},
   "outputs": [],
   "source": [
    "(x_train, y_train), (x_test, y_test) = mnist.load_data()"
   ]
  },
  {
   "cell_type": "code",
   "execution_count": 15,
   "metadata": {},
   "outputs": [],
   "source": [
    "x_train = (x_train.astype(np.float32) - 127.5) / 127.5"
   ]
  },
  {
   "cell_type": "code",
   "execution_count": 16,
   "metadata": {},
   "outputs": [
    {
     "ename": "NameError",
     "evalue": "name 'gen_images' is not defined",
     "output_type": "error",
     "traceback": [
      "\u001b[1;31m---------------------------------------------------------------------------\u001b[0m",
      "\u001b[1;31mNameError\u001b[0m                                 Traceback (most recent call last)",
      "\u001b[1;32m<ipython-input-16-e9c231b75359>\u001b[0m in \u001b[0;36m<module>\u001b[1;34m\u001b[0m\n\u001b[1;32m----> 1\u001b[1;33m \u001b[0mgen_images\u001b[0m\u001b[1;33m.\u001b[0m\u001b[0mshape\u001b[0m\u001b[1;33m\u001b[0m\u001b[1;33m\u001b[0m\u001b[0m\n\u001b[0m",
      "\u001b[1;31mNameError\u001b[0m: name 'gen_images' is not defined"
     ]
    }
   ],
   "source": [
    "gen_images.shape"
   ]
  },
  {
   "cell_type": "code",
   "execution_count": null,
   "metadata": {},
   "outputs": [
    {
     "name": "stderr",
     "output_type": "stream",
     "text": [
      "C:\\ProgramData\\Anaconda3\\lib\\site-packages\\keras\\engine\\training.py:297: UserWarning: Discrepancy between trainable weights and collected trainable weights, did you set `model.trainable` without calling `model.compile` after ?\n",
      "  'Discrepancy between trainable weights and collected trainable'\n"
     ]
    },
    {
     "name": "stdout",
     "output_type": "stream",
     "text": [
      "Epoch : 0, Dis Loss : 0.4388490915298462, Gen Loss : 2.32437801361084\n",
      "Epoch : 1, Dis Loss : 0.4419821500778198, Gen Loss : 1.712998867034912\n",
      "Epoch : 2, Dis Loss : 0.37339967489242554, Gen Loss : 1.8492540121078491\n",
      "Epoch : 3, Dis Loss : 0.445328950881958, Gen Loss : 2.4001450538635254\n",
      "Epoch : 4, Dis Loss : 0.45715463161468506, Gen Loss : 1.4929814338684082\n",
      "Epoch : 5, Dis Loss : 0.5019633769989014, Gen Loss : 1.4350717067718506\n",
      "Epoch : 6, Dis Loss : 0.4970414638519287, Gen Loss : 1.4987508058547974\n",
      "Epoch : 7, Dis Loss : 0.4848541021347046, Gen Loss : 1.8337266445159912\n",
      "Epoch : 8, Dis Loss : 0.546810507774353, Gen Loss : 1.4291768074035645\n",
      "Epoch : 9, Dis Loss : 0.5047929883003235, Gen Loss : 1.4098957777023315\n",
      "Epoch : 10, Dis Loss : 0.5098594427108765, Gen Loss : 1.6404244899749756\n",
      "Epoch : 11, Dis Loss : 0.5573514699935913, Gen Loss : 1.7523643970489502\n",
      "Epoch : 12, Dis Loss : 0.5148091912269592, Gen Loss : 1.5392301082611084\n",
      "Epoch : 13, Dis Loss : 0.48987647891044617, Gen Loss : 1.9405006170272827\n",
      "Epoch : 14, Dis Loss : 0.5267237424850464, Gen Loss : 1.4887185096740723\n",
      "Epoch : 15, Dis Loss : 0.5475362539291382, Gen Loss : 1.549670696258545\n",
      "Epoch : 16, Dis Loss : 0.5270546674728394, Gen Loss : 1.508887529373169\n",
      "Epoch : 17, Dis Loss : 0.5337181091308594, Gen Loss : 1.7103056907653809\n",
      "Epoch : 18, Dis Loss : 0.5735790133476257, Gen Loss : 1.3028295040130615\n",
      "Epoch : 19, Dis Loss : 0.6109088659286499, Gen Loss : 1.83290433883667\n",
      "Epoch : 20, Dis Loss : 0.5211046934127808, Gen Loss : 1.3027154207229614\n"
     ]
    },
    {
     "name": "stderr",
     "output_type": "stream",
     "text": [
      "C:\\ProgramData\\Anaconda3\\lib\\site-packages\\ipykernel_launcher.py:5: RuntimeWarning: More than 20 figures have been opened. Figures created through the pyplot interface (`matplotlib.pyplot.figure`) are retained until explicitly closed and may consume too much memory. (To control this warning, see the rcParam `figure.max_open_warning`).\n",
      "  \"\"\"\n"
     ]
    },
    {
     "name": "stdout",
     "output_type": "stream",
     "text": [
      "Epoch : 21, Dis Loss : 0.5225095152854919, Gen Loss : 1.5598052740097046\n",
      "Epoch : 22, Dis Loss : 0.5245570540428162, Gen Loss : 1.7110059261322021\n",
      "Epoch : 23, Dis Loss : 0.5542501211166382, Gen Loss : 1.6015143394470215\n",
      "Epoch : 24, Dis Loss : 0.5497171878814697, Gen Loss : 1.5199925899505615\n",
      "Epoch : 25, Dis Loss : 0.5151606798171997, Gen Loss : 1.5620191097259521\n",
      "Epoch : 26, Dis Loss : 0.5180884599685669, Gen Loss : 1.5546183586120605\n",
      "Epoch : 27, Dis Loss : 0.5555636882781982, Gen Loss : 1.580253005027771\n",
      "Epoch : 28, Dis Loss : 0.5358455181121826, Gen Loss : 1.7288784980773926\n",
      "Epoch : 29, Dis Loss : 0.5163276195526123, Gen Loss : 1.9409394264221191\n",
      "Epoch : 30, Dis Loss : 0.5637374520301819, Gen Loss : 1.7372663021087646\n",
      "Epoch : 31, Dis Loss : 0.5269889831542969, Gen Loss : 1.8274953365325928\n",
      "Epoch : 32, Dis Loss : 0.5411231517791748, Gen Loss : 1.3707308769226074\n",
      "Epoch : 33, Dis Loss : 0.5691149830818176, Gen Loss : 2.2213621139526367\n",
      "Epoch : 34, Dis Loss : 0.5437407493591309, Gen Loss : 1.3460999727249146\n",
      "Epoch : 35, Dis Loss : 0.5605838298797607, Gen Loss : 1.849571704864502\n",
      "Epoch : 36, Dis Loss : 0.5537227392196655, Gen Loss : 1.7966862916946411\n",
      "Epoch : 37, Dis Loss : 0.557674765586853, Gen Loss : 1.930659532546997\n",
      "Epoch : 38, Dis Loss : 0.47667407989501953, Gen Loss : 1.5418567657470703\n",
      "Epoch : 39, Dis Loss : 0.5418820381164551, Gen Loss : 1.8833467960357666\n",
      "Epoch : 40, Dis Loss : 0.5910558700561523, Gen Loss : 1.7917271852493286\n",
      "Epoch : 41, Dis Loss : 0.5037649869918823, Gen Loss : 1.7328410148620605\n",
      "Epoch : 42, Dis Loss : 0.5688211917877197, Gen Loss : 0.9634429216384888\n",
      "Epoch : 43, Dis Loss : 0.5404016971588135, Gen Loss : 1.748078465461731\n",
      "Epoch : 44, Dis Loss : 0.5107694864273071, Gen Loss : 1.899318814277649\n",
      "Epoch : 45, Dis Loss : 0.518273115158081, Gen Loss : 1.8261445760726929\n",
      "Epoch : 46, Dis Loss : 0.519917905330658, Gen Loss : 2.0168676376342773\n",
      "Epoch : 47, Dis Loss : 0.5367221832275391, Gen Loss : 1.5792789459228516\n"
     ]
    }
   ],
   "source": [
    "epochs = 100\n",
    "batch_size = 128\n",
    "n = x_train.shape[0]\n",
    "batch_steps = int(n / batch_size)\n",
    "for i in range(epochs):\n",
    "    for j in range(batch_steps):\n",
    "        noise = np.random.normal(0,1,[batch_size,100])\n",
    "        gen_images = gen.predict(noise)\n",
    "\n",
    "        img_batch = x_train[np.random.randint(0,n,size=batch_size)]\n",
    "        img_batch = img_batch.reshape(batch_size, -1)\n",
    "        X = np.concatenate([img_batch, gen_images])\n",
    "        y_dis = np.zeros(2 * batch_size)\n",
    "        y_dis[:batch_size] = 0.9\n",
    "        d_loss = dis.train_on_batch(X,y_dis)\n",
    "\n",
    "        y_gen = np.ones(batch_size)\n",
    "        g_loss = gan.train_on_batch(noise, y_gen)\n",
    "\n",
    "    print(\"Epoch : {}, Dis Loss : {}, Gen Loss : {}\".format(i, d_loss, g_loss))\n",
    "    plot_images(i, gen)"
   ]
  },
  {
   "cell_type": "code",
   "execution_count": null,
   "metadata": {},
   "outputs": [],
   "source": []
  },
  {
   "cell_type": "code",
   "execution_count": null,
   "metadata": {},
   "outputs": [],
   "source": []
  },
  {
   "cell_type": "code",
   "execution_count": null,
   "metadata": {},
   "outputs": [],
   "source": []
  }
 ],
 "metadata": {
  "kernelspec": {
   "display_name": "Python 3",
   "language": "python",
   "name": "python3"
  },
  "language_info": {
   "codemirror_mode": {
    "name": "ipython",
    "version": 3
   },
   "file_extension": ".py",
   "mimetype": "text/x-python",
   "name": "python",
   "nbconvert_exporter": "python",
   "pygments_lexer": "ipython3",
   "version": "3.7.6"
  }
 },
 "nbformat": 4,
 "nbformat_minor": 4
}
